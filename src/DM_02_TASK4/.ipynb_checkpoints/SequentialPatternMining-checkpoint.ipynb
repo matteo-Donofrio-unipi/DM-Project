{
 "cells": [
  {
   "cell_type": "code",
   "execution_count": 5,
   "metadata": {},
   "outputs": [],
   "source": [
    "%matplotlib inline\n",
    "import math\n",
    "import numpy as np\n",
    "import pandas as pd\n",
    "import scipy.stats as stats\n",
    "import matplotlib.pyplot as plt\n",
    "import datetime\n",
    "from pandas import to_datetime\n",
    "import seaborn as sn\n",
    "import matplotlib.pyplot as plt\n",
    "from collections import defaultdict\n",
    "from scipy.stats.stats import pearsonr, iqr"
   ]
  },
  {
   "cell_type": "code",
   "execution_count": 76,
   "metadata": {},
   "outputs": [
    {
     "data": {
      "text/html": [
       "<div>\n",
       "<style scoped>\n",
       "    .dataframe tbody tr th:only-of-type {\n",
       "        vertical-align: middle;\n",
       "    }\n",
       "\n",
       "    .dataframe tbody tr th {\n",
       "        vertical-align: top;\n",
       "    }\n",
       "\n",
       "    .dataframe thead th {\n",
       "        text-align: right;\n",
       "    }\n",
       "</style>\n",
       "<table border=\"1\" class=\"dataframe\">\n",
       "  <thead>\n",
       "    <tr style=\"text-align: right;\">\n",
       "      <th></th>\n",
       "      <th>BasketID</th>\n",
       "      <th>BasketDate</th>\n",
       "      <th>Sale</th>\n",
       "      <th>CustomerID</th>\n",
       "      <th>CustomerCountry</th>\n",
       "      <th>ProdID</th>\n",
       "      <th>ProdDescr</th>\n",
       "      <th>Qta</th>\n",
       "    </tr>\n",
       "  </thead>\n",
       "  <tbody>\n",
       "    <tr>\n",
       "      <th>0</th>\n",
       "      <td>536365</td>\n",
       "      <td>2010-01-12 08:26:00</td>\n",
       "      <td>2.55</td>\n",
       "      <td>17850.0</td>\n",
       "      <td>United Kingdom</td>\n",
       "      <td>85123A</td>\n",
       "      <td>WHITE HANGING HEART T-LIGHT HOLDER</td>\n",
       "      <td>6</td>\n",
       "    </tr>\n",
       "    <tr>\n",
       "      <th>1</th>\n",
       "      <td>536365</td>\n",
       "      <td>2010-01-12 08:26:00</td>\n",
       "      <td>3.39</td>\n",
       "      <td>17850.0</td>\n",
       "      <td>United Kingdom</td>\n",
       "      <td>71053</td>\n",
       "      <td>WHITE METAL LANTERN</td>\n",
       "      <td>6</td>\n",
       "    </tr>\n",
       "    <tr>\n",
       "      <th>2</th>\n",
       "      <td>536365</td>\n",
       "      <td>2010-01-12 08:26:00</td>\n",
       "      <td>2.75</td>\n",
       "      <td>17850.0</td>\n",
       "      <td>United Kingdom</td>\n",
       "      <td>84406B</td>\n",
       "      <td>CREAM CUPID HEARTS COAT HANGER</td>\n",
       "      <td>8</td>\n",
       "    </tr>\n",
       "    <tr>\n",
       "      <th>3</th>\n",
       "      <td>536365</td>\n",
       "      <td>2010-01-12 08:26:00</td>\n",
       "      <td>3.39</td>\n",
       "      <td>17850.0</td>\n",
       "      <td>United Kingdom</td>\n",
       "      <td>84029G</td>\n",
       "      <td>KNITTED UNION FLAG HOT WATER BOTTLE</td>\n",
       "      <td>6</td>\n",
       "    </tr>\n",
       "    <tr>\n",
       "      <th>4</th>\n",
       "      <td>536365</td>\n",
       "      <td>2010-01-12 08:26:00</td>\n",
       "      <td>3.39</td>\n",
       "      <td>17850.0</td>\n",
       "      <td>United Kingdom</td>\n",
       "      <td>84029E</td>\n",
       "      <td>RED WOOLLY HOTTIE WHITE HEART.</td>\n",
       "      <td>6</td>\n",
       "    </tr>\n",
       "    <tr>\n",
       "      <th>...</th>\n",
       "      <td>...</td>\n",
       "      <td>...</td>\n",
       "      <td>...</td>\n",
       "      <td>...</td>\n",
       "      <td>...</td>\n",
       "      <td>...</td>\n",
       "      <td>...</td>\n",
       "      <td>...</td>\n",
       "    </tr>\n",
       "    <tr>\n",
       "      <th>541904</th>\n",
       "      <td>581587</td>\n",
       "      <td>2011-09-12 12:50:00</td>\n",
       "      <td>0.85</td>\n",
       "      <td>12680.0</td>\n",
       "      <td>France</td>\n",
       "      <td>22613</td>\n",
       "      <td>PACK OF 20 SPACEBOY NAPKINS</td>\n",
       "      <td>12</td>\n",
       "    </tr>\n",
       "    <tr>\n",
       "      <th>541905</th>\n",
       "      <td>581587</td>\n",
       "      <td>2011-09-12 12:50:00</td>\n",
       "      <td>2.10</td>\n",
       "      <td>12680.0</td>\n",
       "      <td>France</td>\n",
       "      <td>22899</td>\n",
       "      <td>CHILDREN'S APRON DOLLY GIRL</td>\n",
       "      <td>6</td>\n",
       "    </tr>\n",
       "    <tr>\n",
       "      <th>541906</th>\n",
       "      <td>581587</td>\n",
       "      <td>2011-09-12 12:50:00</td>\n",
       "      <td>4.15</td>\n",
       "      <td>12680.0</td>\n",
       "      <td>France</td>\n",
       "      <td>23254</td>\n",
       "      <td>CHILDRENS CUTLERY DOLLY GIRL</td>\n",
       "      <td>4</td>\n",
       "    </tr>\n",
       "    <tr>\n",
       "      <th>541907</th>\n",
       "      <td>581587</td>\n",
       "      <td>2011-09-12 12:50:00</td>\n",
       "      <td>4.15</td>\n",
       "      <td>12680.0</td>\n",
       "      <td>France</td>\n",
       "      <td>23255</td>\n",
       "      <td>CHILDRENS CUTLERY CIRCUS PARADE</td>\n",
       "      <td>4</td>\n",
       "    </tr>\n",
       "    <tr>\n",
       "      <th>541908</th>\n",
       "      <td>581587</td>\n",
       "      <td>2011-09-12 12:50:00</td>\n",
       "      <td>4.95</td>\n",
       "      <td>12680.0</td>\n",
       "      <td>France</td>\n",
       "      <td>22138</td>\n",
       "      <td>BAKING SET 9 PIECE RETROSPOT</td>\n",
       "      <td>3</td>\n",
       "    </tr>\n",
       "  </tbody>\n",
       "</table>\n",
       "<p>258672 rows × 8 columns</p>\n",
       "</div>"
      ],
      "text/plain": [
       "        BasketID           BasketDate  Sale  CustomerID CustomerCountry  \\\n",
       "0         536365  2010-01-12 08:26:00  2.55     17850.0  United Kingdom   \n",
       "1         536365  2010-01-12 08:26:00  3.39     17850.0  United Kingdom   \n",
       "2         536365  2010-01-12 08:26:00  2.75     17850.0  United Kingdom   \n",
       "3         536365  2010-01-12 08:26:00  3.39     17850.0  United Kingdom   \n",
       "4         536365  2010-01-12 08:26:00  3.39     17850.0  United Kingdom   \n",
       "...          ...                  ...   ...         ...             ...   \n",
       "541904    581587  2011-09-12 12:50:00  0.85     12680.0          France   \n",
       "541905    581587  2011-09-12 12:50:00  2.10     12680.0          France   \n",
       "541906    581587  2011-09-12 12:50:00  4.15     12680.0          France   \n",
       "541907    581587  2011-09-12 12:50:00  4.15     12680.0          France   \n",
       "541908    581587  2011-09-12 12:50:00  4.95     12680.0          France   \n",
       "\n",
       "        ProdID                            ProdDescr  Qta  \n",
       "0       85123A   WHITE HANGING HEART T-LIGHT HOLDER    6  \n",
       "1        71053                  WHITE METAL LANTERN    6  \n",
       "2       84406B       CREAM CUPID HEARTS COAT HANGER    8  \n",
       "3       84029G  KNITTED UNION FLAG HOT WATER BOTTLE    6  \n",
       "4       84029E       RED WOOLLY HOTTIE WHITE HEART.    6  \n",
       "...        ...                                  ...  ...  \n",
       "541904   22613          PACK OF 20 SPACEBOY NAPKINS   12  \n",
       "541905   22899         CHILDREN'S APRON DOLLY GIRL     6  \n",
       "541906   23254        CHILDRENS CUTLERY DOLLY GIRL     4  \n",
       "541907   23255      CHILDRENS CUTLERY CIRCUS PARADE    4  \n",
       "541908   22138        BAKING SET 9 PIECE RETROSPOT     3  \n",
       "\n",
       "[258672 rows x 8 columns]"
      ]
     },
     "execution_count": 76,
     "metadata": {},
     "output_type": "execute_result"
    }
   ],
   "source": [
    "customer_sequence = pd.read_csv(\"../preprocessed.csv\", index_col=0)\n",
    "customer_sequence"
   ]
  },
  {
   "cell_type": "code",
   "execution_count": 77,
   "metadata": {},
   "outputs": [],
   "source": [
    "customer_sequence=customer_sequence.groupby([\"CustomerID\",'BasketID','BasketDate'])"
   ]
  },
  {
   "cell_type": "code",
   "execution_count": 78,
   "metadata": {},
   "outputs": [],
   "source": [
    "customer_sequence=customer_sequence[[\"BasketDate\"]].apply(list)"
   ]
  },
  {
   "cell_type": "code",
   "execution_count": 79,
   "metadata": {
    "scrolled": true
   },
   "outputs": [
    {
     "data": {
      "text/plain": [
       "CustomerID  BasketID  BasketDate         \n",
       "12347.0     537626    2010-07-12 14:57:00    [BasketDate, ProdDescr]\n",
       "            542237    2011-01-26 14:30:00    [BasketDate, ProdDescr]\n",
       "            549222    2011-07-04 10:43:00    [BasketDate, ProdDescr]\n",
       "            556201    2011-09-06 13:01:00    [BasketDate, ProdDescr]\n",
       "            562032    2011-02-08 08:48:00    [BasketDate, ProdDescr]\n",
       "                                                      ...           \n",
       "18283.0     578262    2011-11-23 13:27:00    [BasketDate, ProdDescr]\n",
       "            579673    2011-11-30 12:59:00    [BasketDate, ProdDescr]\n",
       "            580872    2011-06-12 12:02:00    [BasketDate, ProdDescr]\n",
       "18287.0     554065    2011-05-22 10:39:00    [BasketDate, ProdDescr]\n",
       "            570715    2011-12-10 10:23:00    [BasketDate, ProdDescr]\n",
       "Length: 16376, dtype: object"
      ]
     },
     "execution_count": 79,
     "metadata": {},
     "output_type": "execute_result"
    }
   ],
   "source": [
    "#customer_sequence=customer_sequence.groupby([\"CustomerID\"]).apply(list)\n",
    "customer_sequence"
   ]
  },
  {
   "cell_type": "code",
   "execution_count": 65,
   "metadata": {},
   "outputs": [
    {
     "data": {
      "text/plain": [
       "['BasketDate', 'ProdDescr']"
      ]
     },
     "execution_count": 65,
     "metadata": {},
     "output_type": "execute_result"
    }
   ],
   "source": [
    "customer_sequence.iloc[0]"
   ]
  },
  {
   "cell_type": "code",
   "execution_count": 5,
   "metadata": {},
   "outputs": [],
   "source": [
    "def target_label(row):\n",
    "    first_third = customer_indicators[\"spending\"].quantile(0.33)\n",
    "    second_third = customer_indicators[\"spending\"].quantile(0.66)\n",
    "    if (row[\"spending\"] <= first_third):\n",
    "        return 1\n",
    "    elif (row[\"spending\"] > first_third and row[\"spending\"] <= second_third):\n",
    "        return 2\n",
    "    return 3\n"
   ]
  },
  {
   "cell_type": "code",
   "execution_count": null,
   "metadata": {},
   "outputs": [],
   "source": [
    "customer_indicators[\"label\"] = customer_indicators.apply(target_label, axis=1)"
   ]
  }
 ],
 "metadata": {
  "kernelspec": {
   "display_name": "Python 3",
   "language": "python",
   "name": "python3"
  },
  "language_info": {
   "codemirror_mode": {
    "name": "ipython",
    "version": 3
   },
   "file_extension": ".py",
   "mimetype": "text/x-python",
   "name": "python",
   "nbconvert_exporter": "python",
   "pygments_lexer": "ipython3",
   "version": "3.8.3"
  }
 },
 "nbformat": 4,
 "nbformat_minor": 4
}
