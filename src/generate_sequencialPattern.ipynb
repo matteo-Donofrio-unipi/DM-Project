{
 "cells": [
  {
   "cell_type": "code",
   "execution_count": null,
   "metadata": {},
   "outputs": [],
   "source": [
    "from datetime import date, datetime\n",
    "from typing import Dict, Union\n",
    "from pandas import DataFrame\n",
    "from pandas.core.series import Series\n",
    "from scipy.stats import entropy\n",
    "\n",
    "\n",
    "def customer_features(customer_df: DataFrame) -> Dict[str, Union[int, float]]:\n",
    "    \"\"\"Features che identificano un cliente.\n",
    "\n",
    "    Args:\n",
    "        customer_df (DataFrame): DataFrame di record con lo stesso CustomerID.\n",
    "\n",
    "    Returns:\n",
    "        Dict: Features estratte dai record dell'utente.\n",
    "    \"\"\"\n",
    "    # Numero di BasketID distinti\n",
    "    baskets: int = customer_df[\"BasketID\"].nunique()\n",
    "    \n",
    "    # Total number of items purchased by a customer during the period\n",
    "    items: int = customer_df[\"Qta\"].sum()\n",
    "    items=items/baskets\n",
    "    \n",
    "    # Distinct items bought by a customer in the period of observation\n",
    "    distinct_items: int = customer_df[\"ProdID\"].nunique()\n",
    "    distinct_items=distinct_items/baskets\n",
    "\n",
    "\n",
    "\n",
    "    # Numero massimo di item acquistati in una sessione --- NON SCALATO CON BASKETS\n",
    "    maximum_items: int = max(customer_df.groupby([\"BasketID\"])[\"Qta\"].sum())\n",
    "\n",
    "    # entropia del comportamento utente ( 0 = compra sempre stesso oggetto, 1 = equidistibuito  ) --- NON SCALATO CON BASKETS\n",
    "    q = customer_df.groupby([\"ProdID\"], as_index=False)[\"Qta\"].sum()\n",
    "    E: float = entropy(q['Qta'].values, base=2)\n",
    "\n",
    "    # Totale degli acquisti dell'utente (entrate per il negozio)\n",
    "    spending: float = (customer_df[\"Sale\"] * customer_df[\"Qta\"]).sum()\n",
    "    spending=spending/baskets\n",
    "    \n",
    "    # Costo medio pagato --- NON SCALATO CON BASKETS\n",
    "    avg_bought: float = customer_df[\"Sale\"].mean(skipna=True)\n",
    "\n",
    "\n",
    "    return {\n",
    "        \"I\": items,\n",
    "        \"Iu\": distinct_items,\n",
    "        \"spending\": spending,\n",
    "        \"Imax\": maximum_items,\n",
    "        \"avg_bought\": avg_bought,\n",
    "        \"baskets\": baskets,\n",
    "        \"E\": E\n",
    "    }"
   ]
  }
 ],
 "metadata": {
  "kernelspec": {
   "display_name": "Python 3",
   "language": "python",
   "name": "python3"
  },
  "language_info": {
   "codemirror_mode": {
    "name": "ipython",
    "version": 3
   },
   "file_extension": ".py",
   "mimetype": "text/x-python",
   "name": "python",
   "nbconvert_exporter": "python",
   "pygments_lexer": "ipython3",
   "version": "3.8.3"
  }
 },
 "nbformat": 4,
 "nbformat_minor": 4
}
