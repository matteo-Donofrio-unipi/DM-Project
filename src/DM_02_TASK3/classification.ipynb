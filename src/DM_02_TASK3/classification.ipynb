{
 "cells": [
  {
   "cell_type": "code",
   "execution_count": 1,
   "metadata": {},
   "outputs": [],
   "source": [
    "%matplotlib inline\n",
    "import math\n",
    "import numpy as np\n",
    "import pandas as pd\n",
    "import scipy.stats as stats\n",
    "import matplotlib.pyplot as plt\n",
    "import datetime\n",
    "from pandas import to_datetime\n",
    "import seaborn as sn\n",
    "import matplotlib.pyplot as plt\n",
    "from collections import defaultdict\n",
    "from scipy.stats.stats import pearsonr, iqr"
   ]
  },
  {
   "cell_type": "code",
   "execution_count": 2,
   "metadata": {},
   "outputs": [
    {
     "data": {
      "text/html": [
       "<div>\n",
       "<style scoped>\n",
       "    .dataframe tbody tr th:only-of-type {\n",
       "        vertical-align: middle;\n",
       "    }\n",
       "\n",
       "    .dataframe tbody tr th {\n",
       "        vertical-align: top;\n",
       "    }\n",
       "\n",
       "    .dataframe thead th {\n",
       "        text-align: right;\n",
       "    }\n",
       "</style>\n",
       "<table border=\"1\" class=\"dataframe\">\n",
       "  <thead>\n",
       "    <tr style=\"text-align: right;\">\n",
       "      <th></th>\n",
       "      <th>I</th>\n",
       "      <th>Iu</th>\n",
       "      <th>spending</th>\n",
       "      <th>Imax</th>\n",
       "      <th>avg_bought</th>\n",
       "      <th>baskets</th>\n",
       "      <th>E</th>\n",
       "    </tr>\n",
       "    <tr>\n",
       "      <th>CustomerID</th>\n",
       "      <th></th>\n",
       "      <th></th>\n",
       "      <th></th>\n",
       "      <th></th>\n",
       "      <th></th>\n",
       "      <th></th>\n",
       "      <th></th>\n",
       "    </tr>\n",
       "  </thead>\n",
       "  <tbody>\n",
       "    <tr>\n",
       "      <th>12347.0</th>\n",
       "      <td>0.108021</td>\n",
       "      <td>0.059890</td>\n",
       "      <td>0.124483</td>\n",
       "      <td>0.217940</td>\n",
       "      <td>0.019291</td>\n",
       "      <td>0.031579</td>\n",
       "      <td>0.628584</td>\n",
       "    </tr>\n",
       "    <tr>\n",
       "      <th>12348.0</th>\n",
       "      <td>0.002658</td>\n",
       "      <td>0.003964</td>\n",
       "      <td>0.071554</td>\n",
       "      <td>0.002658</td>\n",
       "      <td>0.274122</td>\n",
       "      <td>0.000000</td>\n",
       "      <td>0.000000</td>\n",
       "    </tr>\n",
       "    <tr>\n",
       "      <th>12349.0</th>\n",
       "      <td>0.307641</td>\n",
       "      <td>0.311199</td>\n",
       "      <td>0.368923</td>\n",
       "      <td>0.307641</td>\n",
       "      <td>0.023277</td>\n",
       "      <td>0.000000</td>\n",
       "      <td>0.585006</td>\n",
       "    </tr>\n",
       "    <tr>\n",
       "      <th>12350.0</th>\n",
       "      <td>0.112957</td>\n",
       "      <td>0.073340</td>\n",
       "      <td>0.081727</td>\n",
       "      <td>0.112957</td>\n",
       "      <td>0.008866</td>\n",
       "      <td>0.000000</td>\n",
       "      <td>0.393407</td>\n",
       "    </tr>\n",
       "    <tr>\n",
       "      <th>12352.0</th>\n",
       "      <td>0.044423</td>\n",
       "      <td>0.037944</td>\n",
       "      <td>0.064072</td>\n",
       "      <td>0.067110</td>\n",
       "      <td>0.033188</td>\n",
       "      <td>0.031579</td>\n",
       "      <td>0.551425</td>\n",
       "    </tr>\n",
       "    <tr>\n",
       "      <th>...</th>\n",
       "      <td>...</td>\n",
       "      <td>...</td>\n",
       "      <td>...</td>\n",
       "      <td>...</td>\n",
       "      <td>...</td>\n",
       "      <td>...</td>\n",
       "      <td>...</td>\n",
       "    </tr>\n",
       "    <tr>\n",
       "      <th>18280.0</th>\n",
       "      <td>0.028571</td>\n",
       "      <td>0.048563</td>\n",
       "      <td>0.053783</td>\n",
       "      <td>0.028571</td>\n",
       "      <td>0.030539</td>\n",
       "      <td>0.000000</td>\n",
       "      <td>0.324265</td>\n",
       "    </tr>\n",
       "    <tr>\n",
       "      <th>18281.0</th>\n",
       "      <td>0.033223</td>\n",
       "      <td>0.023786</td>\n",
       "      <td>0.013787</td>\n",
       "      <td>0.033223</td>\n",
       "      <td>0.005147</td>\n",
       "      <td>0.000000</td>\n",
       "      <td>0.230642</td>\n",
       "    </tr>\n",
       "    <tr>\n",
       "      <th>18282.0</th>\n",
       "      <td>0.016279</td>\n",
       "      <td>0.021308</td>\n",
       "      <td>0.020487</td>\n",
       "      <td>0.017276</td>\n",
       "      <td>0.025711</td>\n",
       "      <td>0.005263</td>\n",
       "      <td>0.299490</td>\n",
       "    </tr>\n",
       "    <tr>\n",
       "      <th>18283.0</th>\n",
       "      <td>0.041905</td>\n",
       "      <td>0.048233</td>\n",
       "      <td>0.026649</td>\n",
       "      <td>0.151495</td>\n",
       "      <td>0.007354</td>\n",
       "      <td>0.073684</td>\n",
       "      <td>0.683099</td>\n",
       "    </tr>\n",
       "    <tr>\n",
       "      <th>18287.0</th>\n",
       "      <td>0.095681</td>\n",
       "      <td>0.073340</td>\n",
       "      <td>0.076159</td>\n",
       "      <td>0.127575</td>\n",
       "      <td>0.012274</td>\n",
       "      <td>0.005263</td>\n",
       "      <td>0.486770</td>\n",
       "    </tr>\n",
       "  </tbody>\n",
       "</table>\n",
       "<p>4144 rows × 7 columns</p>\n",
       "</div>"
      ],
      "text/plain": [
       "                   I        Iu  spending      Imax  avg_bought   baskets  \\\n",
       "CustomerID                                                                 \n",
       "12347.0     0.108021  0.059890  0.124483  0.217940    0.019291  0.031579   \n",
       "12348.0     0.002658  0.003964  0.071554  0.002658    0.274122  0.000000   \n",
       "12349.0     0.307641  0.311199  0.368923  0.307641    0.023277  0.000000   \n",
       "12350.0     0.112957  0.073340  0.081727  0.112957    0.008866  0.000000   \n",
       "12352.0     0.044423  0.037944  0.064072  0.067110    0.033188  0.031579   \n",
       "...              ...       ...       ...       ...         ...       ...   \n",
       "18280.0     0.028571  0.048563  0.053783  0.028571    0.030539  0.000000   \n",
       "18281.0     0.033223  0.023786  0.013787  0.033223    0.005147  0.000000   \n",
       "18282.0     0.016279  0.021308  0.020487  0.017276    0.025711  0.005263   \n",
       "18283.0     0.041905  0.048233  0.026649  0.151495    0.007354  0.073684   \n",
       "18287.0     0.095681  0.073340  0.076159  0.127575    0.012274  0.005263   \n",
       "\n",
       "                   E  \n",
       "CustomerID            \n",
       "12347.0     0.628584  \n",
       "12348.0     0.000000  \n",
       "12349.0     0.585006  \n",
       "12350.0     0.393407  \n",
       "12352.0     0.551425  \n",
       "...              ...  \n",
       "18280.0     0.324265  \n",
       "18281.0     0.230642  \n",
       "18282.0     0.299490  \n",
       "18283.0     0.683099  \n",
       "18287.0     0.486770  \n",
       "\n",
       "[4144 rows x 7 columns]"
      ]
     },
     "execution_count": 2,
     "metadata": {},
     "output_type": "execute_result"
    }
   ],
   "source": [
    "customer_indicators = pd.read_csv(\"../../indicators.csv\", index_col=0)\n",
    "customer_indicators"
   ]
  },
  {
   "cell_type": "code",
   "execution_count": 3,
   "metadata": {},
   "outputs": [],
   "source": [
    "def target_label(row):\n",
    "    first_third = customer_indicators[\"spending\"].quantile(0.33)\n",
    "    second_third = customer_indicators[\"spending\"].quantile(0.66)\n",
    "    if (row[\"spending\"] <= first_third):\n",
    "        return 1\n",
    "    elif (row[\"spending\"] > first_third and row[\"spending\"] <= second_third):\n",
    "        return 2\n",
    "    return 3\n",
    "\n",
    "customer_indicators[\"label\"] = customer_indicators.apply(target_label, axis=1)"
   ]
  },
  {
   "cell_type": "code",
   "execution_count": 4,
   "metadata": {},
   "outputs": [
    {
     "data": {
      "text/html": [
       "<div>\n",
       "<style scoped>\n",
       "    .dataframe tbody tr th:only-of-type {\n",
       "        vertical-align: middle;\n",
       "    }\n",
       "\n",
       "    .dataframe tbody tr th {\n",
       "        vertical-align: top;\n",
       "    }\n",
       "\n",
       "    .dataframe thead th {\n",
       "        text-align: right;\n",
       "    }\n",
       "</style>\n",
       "<table border=\"1\" class=\"dataframe\">\n",
       "  <thead>\n",
       "    <tr style=\"text-align: right;\">\n",
       "      <th></th>\n",
       "      <th>I</th>\n",
       "      <th>Iu</th>\n",
       "      <th>spending</th>\n",
       "      <th>Imax</th>\n",
       "      <th>avg_bought</th>\n",
       "      <th>baskets</th>\n",
       "      <th>E</th>\n",
       "      <th>label</th>\n",
       "    </tr>\n",
       "    <tr>\n",
       "      <th>CustomerID</th>\n",
       "      <th></th>\n",
       "      <th></th>\n",
       "      <th></th>\n",
       "      <th></th>\n",
       "      <th></th>\n",
       "      <th></th>\n",
       "      <th></th>\n",
       "      <th></th>\n",
       "    </tr>\n",
       "  </thead>\n",
       "  <tbody>\n",
       "    <tr>\n",
       "      <th>12347.0</th>\n",
       "      <td>0.108021</td>\n",
       "      <td>0.059890</td>\n",
       "      <td>0.124483</td>\n",
       "      <td>0.217940</td>\n",
       "      <td>0.019291</td>\n",
       "      <td>0.031579</td>\n",
       "      <td>0.628584</td>\n",
       "      <td>3</td>\n",
       "    </tr>\n",
       "    <tr>\n",
       "      <th>12348.0</th>\n",
       "      <td>0.002658</td>\n",
       "      <td>0.003964</td>\n",
       "      <td>0.071554</td>\n",
       "      <td>0.002658</td>\n",
       "      <td>0.274122</td>\n",
       "      <td>0.000000</td>\n",
       "      <td>0.000000</td>\n",
       "      <td>2</td>\n",
       "    </tr>\n",
       "    <tr>\n",
       "      <th>12349.0</th>\n",
       "      <td>0.307641</td>\n",
       "      <td>0.311199</td>\n",
       "      <td>0.368923</td>\n",
       "      <td>0.307641</td>\n",
       "      <td>0.023277</td>\n",
       "      <td>0.000000</td>\n",
       "      <td>0.585006</td>\n",
       "      <td>3</td>\n",
       "    </tr>\n",
       "    <tr>\n",
       "      <th>12350.0</th>\n",
       "      <td>0.112957</td>\n",
       "      <td>0.073340</td>\n",
       "      <td>0.081727</td>\n",
       "      <td>0.112957</td>\n",
       "      <td>0.008866</td>\n",
       "      <td>0.000000</td>\n",
       "      <td>0.393407</td>\n",
       "      <td>3</td>\n",
       "    </tr>\n",
       "    <tr>\n",
       "      <th>12352.0</th>\n",
       "      <td>0.044423</td>\n",
       "      <td>0.037944</td>\n",
       "      <td>0.064072</td>\n",
       "      <td>0.067110</td>\n",
       "      <td>0.033188</td>\n",
       "      <td>0.031579</td>\n",
       "      <td>0.551425</td>\n",
       "      <td>2</td>\n",
       "    </tr>\n",
       "    <tr>\n",
       "      <th>...</th>\n",
       "      <td>...</td>\n",
       "      <td>...</td>\n",
       "      <td>...</td>\n",
       "      <td>...</td>\n",
       "      <td>...</td>\n",
       "      <td>...</td>\n",
       "      <td>...</td>\n",
       "      <td>...</td>\n",
       "    </tr>\n",
       "    <tr>\n",
       "      <th>18280.0</th>\n",
       "      <td>0.028571</td>\n",
       "      <td>0.048563</td>\n",
       "      <td>0.053783</td>\n",
       "      <td>0.028571</td>\n",
       "      <td>0.030539</td>\n",
       "      <td>0.000000</td>\n",
       "      <td>0.324265</td>\n",
       "      <td>2</td>\n",
       "    </tr>\n",
       "    <tr>\n",
       "      <th>18281.0</th>\n",
       "      <td>0.033223</td>\n",
       "      <td>0.023786</td>\n",
       "      <td>0.013787</td>\n",
       "      <td>0.033223</td>\n",
       "      <td>0.005147</td>\n",
       "      <td>0.000000</td>\n",
       "      <td>0.230642</td>\n",
       "      <td>1</td>\n",
       "    </tr>\n",
       "    <tr>\n",
       "      <th>18282.0</th>\n",
       "      <td>0.016279</td>\n",
       "      <td>0.021308</td>\n",
       "      <td>0.020487</td>\n",
       "      <td>0.017276</td>\n",
       "      <td>0.025711</td>\n",
       "      <td>0.005263</td>\n",
       "      <td>0.299490</td>\n",
       "      <td>1</td>\n",
       "    </tr>\n",
       "    <tr>\n",
       "      <th>18283.0</th>\n",
       "      <td>0.041905</td>\n",
       "      <td>0.048233</td>\n",
       "      <td>0.026649</td>\n",
       "      <td>0.151495</td>\n",
       "      <td>0.007354</td>\n",
       "      <td>0.073684</td>\n",
       "      <td>0.683099</td>\n",
       "      <td>1</td>\n",
       "    </tr>\n",
       "    <tr>\n",
       "      <th>18287.0</th>\n",
       "      <td>0.095681</td>\n",
       "      <td>0.073340</td>\n",
       "      <td>0.076159</td>\n",
       "      <td>0.127575</td>\n",
       "      <td>0.012274</td>\n",
       "      <td>0.005263</td>\n",
       "      <td>0.486770</td>\n",
       "      <td>3</td>\n",
       "    </tr>\n",
       "  </tbody>\n",
       "</table>\n",
       "<p>4144 rows × 8 columns</p>\n",
       "</div>"
      ],
      "text/plain": [
       "                   I        Iu  spending      Imax  avg_bought   baskets  \\\n",
       "CustomerID                                                                 \n",
       "12347.0     0.108021  0.059890  0.124483  0.217940    0.019291  0.031579   \n",
       "12348.0     0.002658  0.003964  0.071554  0.002658    0.274122  0.000000   \n",
       "12349.0     0.307641  0.311199  0.368923  0.307641    0.023277  0.000000   \n",
       "12350.0     0.112957  0.073340  0.081727  0.112957    0.008866  0.000000   \n",
       "12352.0     0.044423  0.037944  0.064072  0.067110    0.033188  0.031579   \n",
       "...              ...       ...       ...       ...         ...       ...   \n",
       "18280.0     0.028571  0.048563  0.053783  0.028571    0.030539  0.000000   \n",
       "18281.0     0.033223  0.023786  0.013787  0.033223    0.005147  0.000000   \n",
       "18282.0     0.016279  0.021308  0.020487  0.017276    0.025711  0.005263   \n",
       "18283.0     0.041905  0.048233  0.026649  0.151495    0.007354  0.073684   \n",
       "18287.0     0.095681  0.073340  0.076159  0.127575    0.012274  0.005263   \n",
       "\n",
       "                   E  label  \n",
       "CustomerID                   \n",
       "12347.0     0.628584      3  \n",
       "12348.0     0.000000      2  \n",
       "12349.0     0.585006      3  \n",
       "12350.0     0.393407      3  \n",
       "12352.0     0.551425      2  \n",
       "...              ...    ...  \n",
       "18280.0     0.324265      2  \n",
       "18281.0     0.230642      1  \n",
       "18282.0     0.299490      1  \n",
       "18283.0     0.683099      1  \n",
       "18287.0     0.486770      3  \n",
       "\n",
       "[4144 rows x 8 columns]"
      ]
     },
     "execution_count": 4,
     "metadata": {},
     "output_type": "execute_result"
    }
   ],
   "source": [
    "customer_indicators"
   ]
  },
  {
   "cell_type": "markdown",
   "metadata": {},
   "source": [
    "## Classificazione con Random Forest"
   ]
  },
  {
   "cell_type": "code",
   "execution_count": 5,
   "metadata": {},
   "outputs": [],
   "source": [
    "from sklearn.model_selection import train_test_split\n",
    "\n",
    "customer_indicatorsForClass=customer_indicators.copy()\n",
    "\n",
    "#extract and remove original label values\n",
    "originalLabel=customer_indicatorsForClass[\"label\"].values\n",
    "customer_indicatorsForClass=customer_indicatorsForClass.drop(columns=['label'])\n",
    "#generate training and test set\n",
    "train_set, test_set, train_label, test_label = train_test_split(customer_indicatorsForClass, originalLabel, stratify =originalLabel, test_size=0.40)"
   ]
  },
  {
   "cell_type": "code",
   "execution_count": 6,
   "metadata": {},
   "outputs": [
    {
     "name": "stdout",
     "output_type": "stream",
     "text": [
      "                   I        Iu  spending      Imax  avg_bought   baskets  \\\n",
      "CustomerID                                                                 \n",
      "15379.0     0.130138  0.083251  0.123044  0.308306    0.017307  0.031579   \n",
      "13266.0     0.053710  0.021721  0.039638  0.089037    0.011468  0.057895   \n",
      "15397.0     0.011960  0.028741  0.027873  0.011960    0.031702  0.000000   \n",
      "16105.0     0.039867  0.028741  0.030625  0.039867    0.009465  0.000000   \n",
      "14020.0     0.078405  0.065907  0.071133  0.083056    0.017641  0.005263   \n",
      "...              ...       ...       ...       ...         ...       ...   \n",
      "13271.0     0.106312  0.187314  0.036459  0.106312    0.004485  0.000000   \n",
      "17639.0     0.001329  0.008920  0.011656  0.001329    0.066383  0.000000   \n",
      "17017.0     0.040567  0.013875  0.038887  0.130233    0.012692  0.094737   \n",
      "12610.0     0.079468  0.064420  0.087653  0.186047    0.023807  0.021053   \n",
      "16409.0     0.104718  0.093162  0.086673  0.180731    0.012382  0.021053   \n",
      "\n",
      "                   E  \n",
      "CustomerID            \n",
      "15379.0     0.670436  \n",
      "13266.0     0.542372  \n",
      "15397.0     0.257431  \n",
      "16105.0     0.256930  \n",
      "14020.0     0.464105  \n",
      "...              ...  \n",
      "13271.0     0.492627  \n",
      "17639.0     0.101094  \n",
      "17017.0     0.561036  \n",
      "12610.0     0.589026  \n",
      "16409.0     0.630480  \n",
      "\n",
      "[2486 rows x 7 columns]\n",
      "(2486,)\n",
      "                   I        Iu  spending      Imax  avg_bought   baskets  \\\n",
      "CustomerID                                                                 \n",
      "13260.0     0.019934  0.023786  0.048194  0.019934    0.031873  0.000000   \n",
      "12633.0     0.104817  0.075818  0.113842  0.148837    0.019405  0.015789   \n",
      "13552.0     0.035880  0.027840  0.063283  0.073090    0.030151  0.052632   \n",
      "17301.0     0.071096  0.112983  0.029937  0.071096    0.005412  0.000000   \n",
      "14285.0     0.021262  0.013875  0.046571  0.051827    0.031108  0.015789   \n",
      "...              ...       ...       ...       ...         ...       ...   \n",
      "12716.0     0.141528  0.122894  0.134715  0.185382    0.018751  0.005263   \n",
      "15225.0     0.100997  0.098117  0.108235  0.100997    0.024351  0.000000   \n",
      "16149.0     0.045183  0.031219  0.029937  0.062458    0.008180  0.005263   \n",
      "14237.0     0.023256  0.038652  0.044104  0.023256    0.041971  0.000000   \n",
      "12356.0     0.037652  0.030393  0.076515  0.061794    0.033053  0.010526   \n",
      "\n",
      "                   E  \n",
      "CustomerID            \n",
      "13260.0     0.227463  \n",
      "12633.0     0.572000  \n",
      "13552.0     0.589482  \n",
      "17301.0     0.423384  \n",
      "14285.0     0.335738  \n",
      "...              ...  \n",
      "12716.0     0.557186  \n",
      "15225.0     0.405796  \n",
      "16149.0     0.370356  \n",
      "14237.0     0.273108  \n",
      "12356.0     0.417944  \n",
      "\n",
      "[1658 rows x 7 columns]\n",
      "(1658,)\n"
     ]
    }
   ],
   "source": [
    "print(train_set)\n",
    "print(train_label.shape)\n",
    "print(test_set)\n",
    "print(test_label.shape)"
   ]
  },
  {
   "cell_type": "markdown",
   "metadata": {},
   "source": [
    "## Grid search per la ricerca dei parametri migliori"
   ]
  },
  {
   "cell_type": "code",
   "execution_count": 8,
   "metadata": {},
   "outputs": [
    {
     "name": "stdout",
     "output_type": "stream",
     "text": [
      "Best setting parameters  {'bootstrap': True, 'class_weight': None, 'criterion': 'entropy', 'max_depth': 7, 'max_features': 2, 'min_samples_leaf': 82, 'min_samples_split': 37}\n",
      "Mean and std of this setting  0.9871275847858232 0.00726632623313374\n"
     ]
    }
   ],
   "source": [
    "from sklearn.ensemble import RandomForestClassifier\n",
    "from sklearn.model_selection import RandomizedSearchCV\n",
    "from sklearn.model_selection import GridSearchCV\n",
    "from scipy.stats import randint as sp_randint\n",
    "from sklearn.metrics import make_scorer\n",
    "from sklearn.metrics import accuracy_score\n",
    "\n",
    "#define the parameters' values you want to try\n",
    "param_dist = {\"max_depth\": [2,3,4,5,6,7,10,12,None],\n",
    "              \"max_features\": [2,3],\n",
    "              \"min_samples_split\": sp_randint(10, 100),\n",
    "              \"min_samples_leaf\": sp_randint(10, 100),\n",
    "              \"bootstrap\": [True, False],\n",
    "              \"criterion\": [\"entropy\", \"gini\"],\n",
    "              \"class_weight\":['balanced', None]}\n",
    "#define the number of iters\n",
    "n_iter_search = 50\n",
    "#define the model\n",
    "clf = RandomForestClassifier(n_estimators=30)\n",
    "#define the grid search\n",
    "grid_search = RandomizedSearchCV(clf, param_distributions=param_dist, \n",
    "                            n_iter=n_iter_search, \n",
    "                            n_jobs=10, \n",
    "                            scoring=make_scorer(accuracy_score))\n",
    "#run the grid search\n",
    "grid_search.fit(train_set, train_label)\n",
    "\n",
    "print('Best setting parameters ', grid_search.cv_results_['params'][0])\n",
    "print('Mean and std of this setting ', grid_search.cv_results_['mean_test_score'][0], \n",
    "      grid_search.cv_results_['std_test_score'][0])\n"
   ]
  },
  {
   "cell_type": "code",
   "execution_count": 9,
   "metadata": {},
   "outputs": [],
   "source": [
    "rf = RandomForestClassifier(n_estimators=30, \n",
    "                             criterion='entropy',\n",
    "                             max_features=3,\n",
    "                             max_depth=3, \n",
    "                             min_samples_split=13,\n",
    "                             min_samples_leaf=90,\n",
    "                             bootstrap=False) \n",
    "rf = rf.fit(train_set, train_label)"
   ]
  },
  {
   "cell_type": "code",
   "execution_count": 10,
   "metadata": {},
   "outputs": [],
   "source": [
    "#prediction on the test test\n",
    "test_pred_rf = rf.predict(test_set)"
   ]
  },
  {
   "cell_type": "code",
   "execution_count": 11,
   "metadata": {},
   "outputs": [
    {
     "name": "stdout",
     "output_type": "stream",
     "text": [
      "              precision    recall  f1-score   support\n",
      "\n",
      "           1       1.00      0.97      0.98       547\n",
      "           2       0.97      1.00      0.98       547\n",
      "           3       1.00      1.00      1.00       564\n",
      "\n",
      "    accuracy                           0.99      1658\n",
      "   macro avg       0.99      0.99      0.99      1658\n",
      "weighted avg       0.99      0.99      0.99      1658\n",
      "\n"
     ]
    }
   ],
   "source": [
    "from sklearn.metrics import classification_report\n",
    "def report_scores(test_label, test_pred):\n",
    "    print(classification_report(test_label, \n",
    "                            test_pred, \n",
    "                            target_names=[\"1\",\"2\",\"3\"]))\n",
    "#compute the performance of the model\n",
    "report_scores(test_label, test_pred_rf)"
   ]
  },
  {
   "cell_type": "code",
   "execution_count": 12,
   "metadata": {},
   "outputs": [],
   "source": [
    "from sklearn.metrics import confusion_matrix\n",
    "\n",
    "def plot_confusion_matrix(y_true, y_pred):\n",
    "    conf = confusion_matrix(y_true, y_pred)\n",
    "    ax = sn.heatmap(conf, annot=True)\n",
    "    ax.set(xlabel = \"Predicted label\", ylabel = \"True label\")"
   ]
  },
  {
   "cell_type": "code",
   "execution_count": 13,
   "metadata": {},
   "outputs": [
    {
     "data": {
      "image/png": "[encoded data removed]",
      "text/plain": [
       "<Figure size 432x288 with 2 Axes>"
      ]
     },
     "metadata": {
      "needs_background": "light"
     },
     "output_type": "display_data"
    }
   ],
   "source": [
    "plot_confusion_matrix(test_label, test_pred_rf)"
   ]
  },
  {
   "cell_type": "code",
   "execution_count": null,
   "metadata": {},
   "outputs": [],
   "source": []
  },
  {
   "cell_type": "markdown",
   "metadata": {},
   "source": [
    "## Classificazione con Naive Bayes"
   ]
  },
  {
   "cell_type": "code",
   "execution_count": 14,
   "metadata": {},
   "outputs": [],
   "source": [
    "#import, define and fit the model\n",
    "from sklearn.naive_bayes import GaussianNB\n",
    "\n",
    "gnb = GaussianNB()\n",
    "gnb.fit(train_set, train_label)\n",
    "\n",
    "#predict on the test set\n",
    "test_pred_gnb = gnb.predict(test_set)"
   ]
  },
  {
   "cell_type": "code",
   "execution_count": 15,
   "metadata": {},
   "outputs": [
    {
     "name": "stdout",
     "output_type": "stream",
     "text": [
      "              precision    recall  f1-score   support\n",
      "\n",
      "           1       0.90      0.91      0.91       547\n",
      "           2       0.78      0.84      0.81       547\n",
      "           3       0.92      0.84      0.88       564\n",
      "\n",
      "    accuracy                           0.86      1658\n",
      "   macro avg       0.87      0.86      0.86      1658\n",
      "weighted avg       0.87      0.86      0.86      1658\n",
      "\n"
     ]
    }
   ],
   "source": [
    "#compute the performance of the model\n",
    "report_scores(test_label,test_pred_gnb)"
   ]
  },
  {
   "cell_type": "code",
   "execution_count": 28,
   "metadata": {},
   "outputs": [
    {
     "data": {
      "text/plain": [
       "(0.0, 0.4)"
      ]
     },
     "execution_count": 28,
     "metadata": {},
     "output_type": "execute_result"
    },
    {
     "data": {
      "image/png": "[encoded data removed]",
      "text/plain": [
       "<Figure size 432x288 with 1 Axes>"
      ]
     },
     "metadata": {
      "needs_background": "light"
     },
     "output_type": "display_data"
    }
   ],
   "source": [
    "from sklearn.datasets import make_blobs\n",
    "plt.scatter(test_set[\"I\"], test_set[\"E\"], c=test_label, s=25, cmap='RdBu')\n",
    "plt.xlim(0, 0.4)\n"
   ]
  },
  {
   "cell_type": "code",
   "execution_count": 29,
   "metadata": {},
   "outputs": [
    {
     "data": {
      "text/plain": [
       "(0.0, 0.4)"
      ]
     },
     "execution_count": 29,
     "metadata": {},
     "output_type": "execute_result"
    },
    {
     "data": {
      "image/png": "[encoded data removed]",
      "text/plain": [
       "<Figure size 432x288 with 1 Axes>"
      ]
     },
     "metadata": {
      "needs_background": "light"
     },
     "output_type": "display_data"
    }
   ],
   "source": [
    "plt.scatter(test_set[\"I\"], test_set[\"E\"], c=test_pred_gnb, s=25, cmap='RdBu')\n",
    "plt.xlim(0, 0.4)"
   ]
  },
  {
   "cell_type": "code",
   "execution_count": null,
   "metadata": {},
   "outputs": [],
   "source": []
  }
 ],
 "metadata": {
  "kernelspec": {
   "display_name": "Python 3",
   "language": "python",
   "name": "python3"
  },
  "language_info": {
   "codemirror_mode": {
    "name": "ipython",
    "version": 3
   },
   "file_extension": ".py",
   "mimetype": "text/x-python",
   "name": "python",
   "nbconvert_exporter": "python",
   "pygments_lexer": "ipython3",
   "version": "3.8.3"
  }
 },
 "nbformat": 4,
 "nbformat_minor": 4
}
