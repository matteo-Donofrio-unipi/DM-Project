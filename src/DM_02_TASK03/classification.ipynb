{
 "metadata": {
  "language_info": {
   "codemirror_mode": {
    "name": "ipython",
    "version": 3
   },
   "file_extension": ".py",
   "mimetype": "text/x-python",
   "name": "python",
   "nbconvert_exporter": "python",
   "pygments_lexer": "ipython3",
   "version": "3.7.9-final"
  },
  "orig_nbformat": 2,
  "kernelspec": {
   "name": "python3",
   "display_name": "Python 3"
  }
 },
 "nbformat": 4,
 "nbformat_minor": 2,
 "cells": [
  {
   "cell_type": "code",
   "execution_count": 1,
   "metadata": {},
   "outputs": [],
   "source": [
    "%matplotlib inline\n",
    "import math\n",
    "import numpy as np\n",
    "import pandas as pd\n",
    "import scipy.stats as stats\n",
    "import matplotlib.pyplot as plt\n",
    "import datetime\n",
    "from pandas import to_datetime\n",
    "import seaborn as sn\n",
    "import matplotlib.pyplot as plt\n",
    "from collections import defaultdict\n",
    "from scipy.stats.stats import pearsonr, iqr"
   ]
  },
  {
   "cell_type": "code",
   "execution_count": 3,
   "metadata": {},
   "outputs": [
    {
     "output_type": "execute_result",
     "data": {
      "text/plain": [
       "                   I        Iu  spending      Imax  avg_bought   baskets  \\\n",
       "CustomerID                                                                 \n",
       "12347.0     0.108021  0.059890  0.124483  0.217940    0.019291  0.031579   \n",
       "12348.0     0.002658  0.003964  0.071554  0.002658    0.274122  0.000000   \n",
       "12349.0     0.307641  0.311199  0.368923  0.307641    0.023277  0.000000   \n",
       "12350.0     0.112957  0.073340  0.081727  0.112957    0.008866  0.000000   \n",
       "12352.0     0.044423  0.037944  0.064072  0.067110    0.033188  0.031579   \n",
       "...              ...       ...       ...       ...         ...       ...   \n",
       "18280.0     0.028571  0.048563  0.053783  0.028571    0.030539  0.000000   \n",
       "18281.0     0.033223  0.023786  0.013787  0.033223    0.005147  0.000000   \n",
       "18282.0     0.016279  0.021308  0.020487  0.017276    0.025711  0.005263   \n",
       "18283.0     0.041905  0.048233  0.026649  0.151495    0.007354  0.073684   \n",
       "18287.0     0.095681  0.073340  0.076159  0.127575    0.012274  0.005263   \n",
       "\n",
       "                   E  \n",
       "CustomerID            \n",
       "12347.0     0.628584  \n",
       "12348.0     0.000000  \n",
       "12349.0     0.585006  \n",
       "12350.0     0.393407  \n",
       "12352.0     0.551425  \n",
       "...              ...  \n",
       "18280.0     0.324265  \n",
       "18281.0     0.230642  \n",
       "18282.0     0.299490  \n",
       "18283.0     0.683099  \n",
       "18287.0     0.486770  \n",
       "\n",
       "[4144 rows x 7 columns]"
      ],
      "text/html": "<div>\n<style scoped>\n    .dataframe tbody tr th:only-of-type {\n        vertical-align: middle;\n    }\n\n    .dataframe tbody tr th {\n        vertical-align: top;\n    }\n\n    .dataframe thead th {\n        text-align: right;\n    }\n</style>\n<table border=\"1\" class=\"dataframe\">\n  <thead>\n    <tr style=\"text-align: right;\">\n      <th></th>\n      <th>I</th>\n      <th>Iu</th>\n      <th>spending</th>\n      <th>Imax</th>\n      <th>avg_bought</th>\n      <th>baskets</th>\n      <th>E</th>\n    </tr>\n    <tr>\n      <th>CustomerID</th>\n      <th></th>\n      <th></th>\n      <th></th>\n      <th></th>\n      <th></th>\n      <th></th>\n      <th></th>\n    </tr>\n  </thead>\n  <tbody>\n    <tr>\n      <th>12347.0</th>\n      <td>0.108021</td>\n      <td>0.059890</td>\n      <td>0.124483</td>\n      <td>0.217940</td>\n      <td>0.019291</td>\n      <td>0.031579</td>\n      <td>0.628584</td>\n    </tr>\n    <tr>\n      <th>12348.0</th>\n      <td>0.002658</td>\n      <td>0.003964</td>\n      <td>0.071554</td>\n      <td>0.002658</td>\n      <td>0.274122</td>\n      <td>0.000000</td>\n      <td>0.000000</td>\n    </tr>\n    <tr>\n      <th>12349.0</th>\n      <td>0.307641</td>\n      <td>0.311199</td>\n      <td>0.368923</td>\n      <td>0.307641</td>\n      <td>0.023277</td>\n      <td>0.000000</td>\n      <td>0.585006</td>\n    </tr>\n    <tr>\n      <th>12350.0</th>\n      <td>0.112957</td>\n      <td>0.073340</td>\n      <td>0.081727</td>\n      <td>0.112957</td>\n      <td>0.008866</td>\n      <td>0.000000</td>\n      <td>0.393407</td>\n    </tr>\n    <tr>\n      <th>12352.0</th>\n      <td>0.044423</td>\n      <td>0.037944</td>\n      <td>0.064072</td>\n      <td>0.067110</td>\n      <td>0.033188</td>\n      <td>0.031579</td>\n      <td>0.551425</td>\n    </tr>\n    <tr>\n      <th>...</th>\n      <td>...</td>\n      <td>...</td>\n      <td>...</td>\n      <td>...</td>\n      <td>...</td>\n      <td>...</td>\n      <td>...</td>\n    </tr>\n    <tr>\n      <th>18280.0</th>\n      <td>0.028571</td>\n      <td>0.048563</td>\n      <td>0.053783</td>\n      <td>0.028571</td>\n      <td>0.030539</td>\n      <td>0.000000</td>\n      <td>0.324265</td>\n    </tr>\n    <tr>\n      <th>18281.0</th>\n      <td>0.033223</td>\n      <td>0.023786</td>\n      <td>0.013787</td>\n      <td>0.033223</td>\n      <td>0.005147</td>\n      <td>0.000000</td>\n      <td>0.230642</td>\n    </tr>\n    <tr>\n      <th>18282.0</th>\n      <td>0.016279</td>\n      <td>0.021308</td>\n      <td>0.020487</td>\n      <td>0.017276</td>\n      <td>0.025711</td>\n      <td>0.005263</td>\n      <td>0.299490</td>\n    </tr>\n    <tr>\n      <th>18283.0</th>\n      <td>0.041905</td>\n      <td>0.048233</td>\n      <td>0.026649</td>\n      <td>0.151495</td>\n      <td>0.007354</td>\n      <td>0.073684</td>\n      <td>0.683099</td>\n    </tr>\n    <tr>\n      <th>18287.0</th>\n      <td>0.095681</td>\n      <td>0.073340</td>\n      <td>0.076159</td>\n      <td>0.127575</td>\n      <td>0.012274</td>\n      <td>0.005263</td>\n      <td>0.486770</td>\n    </tr>\n  </tbody>\n</table>\n<p>4144 rows × 7 columns</p>\n</div>"
     },
     "metadata": {},
     "execution_count": 3
    }
   ],
   "source": [
    "df = pd.read_csv(\"../../indicators.csv\", index_col=0)\n",
    "df"
   ]
  }
 ]
}