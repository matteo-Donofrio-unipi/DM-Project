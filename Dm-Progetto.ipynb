{
 "cells": [
  {
   "cell_type": "code",
   "execution_count": 2,
   "metadata": {},
   "outputs": [],
   "source": [
    "%matplotlib inline\n",
    "import math\n",
    "import numpy as np\n",
    "import pandas as pd\n",
    "import scipy.stats as stats\n",
    "import matplotlib.pyplot as plt\n",
    "import datetime\n",
    "from pandas import to_datetime\n",
    "from collections import defaultdict\n",
    "from scipy.stats.stats import pearsonr\n"
   ]
  },
  {
   "cell_type": "code",
   "execution_count": null,
   "metadata": {},
   "outputs": [],
   "source": [
    "# Legge il CSV\n",
    "df = pd.read_csv('customer_supermarket.csv', sep='\\t', index_col=0)\n",
    "# Trasforma il campo \"Sale\" in un float\n",
    "df[\"Sale\"] = df[\"Sale\"].str.replace(\",\", \".\").astype(float)\n",
    "# Trasforma il campo \"BasketDate\" in un datetime\n",
    "df[\"BasketDate\"] = pd.to_datetime(df[\"BasketDate\"])\n",
    "\n",
    "df.head()"
   ]
  },
  {
   "cell_type": "markdown",
   "metadata": {},
   "source": [
    "# DATA SEMANTICS\n",
    "\n"
   ]
  },
  {
   "cell_type": "code",
   "execution_count": null,
   "metadata": {},
   "outputs": [],
   "source": [
    "df.info()"
   ]
  },
  {
   "cell_type": "markdown",
   "metadata": {},
   "source": [
    "Nel dataset si descrivono le sessioni di acquisto di un certo numero di clienti. Una sessione di acquisto, detta basket (`BasketID`) e si svolge in una data (`BasketDate`), e viene effettuata da un cliente (CustomerID) residente in uno stato (`CustomerCountry`).\n",
    "Ogni sessione rappresenta una serie di prodotti acquistati da un cliente, e in un record è possibile ritrovare, per il singolo prodotto, l’identificativo (`ProdID`), la descrizione (`ProdDescr`), e  la quantità (`Qtà`). Infine viene riportato il costo unitario del prodotto (`Sale`)."
   ]
  },
  {
   "cell_type": "markdown",
   "metadata": {},
   "source": [
    "# DISTRIBUTION OF VARIABLES AND STATISTICS\n"
   ]
  },
  {
   "cell_type": "code",
   "execution_count": null,
   "metadata": {},
   "outputs": [],
   "source": [
    "df.describe()"
   ]
  },
  {
   "cell_type": "code",
   "execution_count": null,
   "metadata": {},
   "outputs": [],
   "source": [
    "print(\"Distinct Values in BasketID: \\n\", df.BasketID.nunique())\n",
    "print(\"Distinct Values in BasketDate:\\n\", df.BasketDate.nunique())\n",
    "print(\"Distinct Values in Sale: \\n\", df.Sale.nunique())\n",
    "print(\"Distinct Values in CustomerID: \\n\", df.CustomerID.nunique())\n",
    "print(\"Distinct Values in CustomerCountry: \\n\", df.CustomerCountry.nunique())\n",
    "print(\"Distinct Values in ProdID: \\n\", df.ProdID.nunique())\n",
    "print(\"Distinct Values in ProdDescr: \\n\", df.ProdDescr.nunique())"
   ]
  },
  {
   "cell_type": "markdown",
   "metadata": {},
   "source": [
    "## Date e ore di maggiore traffico nei negozi\n",
    "\n",
    "## Orari di maggiore frequentazione\n",
    "\n",
    "Di seguito si mostrano i diagrammi a barre contenenti il numero di `BasketID` per ora del giorno."
   ]
  },
  {
   "cell_type": "code",
   "execution_count": null,
   "metadata": {},
   "outputs": [],
   "source": [
    "df.groupby(df[\"BasketDate\"].dt.hour)[\"BasketID\"].count().plot(kind=\"bar\")"
   ]
  },
  {
   "cell_type": "markdown",
   "metadata": {},
   "source": [
    "L'ora del giorno più frequentata sembra essere le 12.\n",
    "\n",
    "Si restringono le date al 2010 e si osserva come in questo anno l'ora più frequentata siano le 14"
   ]
  },
  {
   "cell_type": "code",
   "execution_count": null,
   "metadata": {},
   "outputs": [],
   "source": [
    "df[df[\"BasketDate\"].dt.year == 2010].groupby(df[\"BasketDate\"].dt.hour)[\"BasketID\"].count().plot(kind=\"bar\")"
   ]
  },
  {
   "cell_type": "markdown",
   "metadata": {},
   "source": [
    "Mentre nel 2011 l'orario di maggiore frequenza si confermano le 12."
   ]
  },
  {
   "cell_type": "code",
   "execution_count": null,
   "metadata": {},
   "outputs": [],
   "source": [
    "df[df[\"BasketDate\"].dt.year == 2011].groupby(df[\"BasketDate\"].dt.hour)[\"BasketID\"].count().plot(kind=\"bar\")"
   ]
  },
  {
   "cell_type": "markdown",
   "metadata": {},
   "source": [
    "## Date di maggiore frequentazione\n",
    "\n",
    "Si mostrano le date di maggiore traffico per gli anni 2010 e 2011\n",
    "\n",
    "Dato che relativamente al 2010 sono presenti solo 20 record è possibile mostrarli in un unico grafico"
   ]
  },
  {
   "cell_type": "code",
   "execution_count": null,
   "metadata": {},
   "outputs": [],
   "source": [
    "df_2010 = df[df[\"BasketDate\"].dt.year == 2010]\n",
    "\n",
    "print(df_2010[\"BasketDate\"].dt.date.nunique())\n",
    "\n",
    "df_2010.groupby(df[\"BasketDate\"].dt.date)[\"BasketID\"].count().plot(kind=\"bar\")"
   ]
  },
  {
   "cell_type": "markdown",
   "metadata": {},
   "source": [
    "TODO: Grafici per ogni gruppo di mesi del 2011"
   ]
  },
  {
   "cell_type": "code",
   "execution_count": null,
   "metadata": {},
   "outputs": [],
   "source": [
    "first_three_months = df[(df[\"BasketDate\"].dt.year == 2011) & (df[\"BasketDate\"].dt.month < 3 )]\n",
    "\n",
    "first_three_months.groupby(df[\"BasketDate\"].dt.date)[\"BasketID\"].count().plot(kind=\"bar\")"
   ]
  },
  {
   "cell_type": "markdown",
   "metadata": {},
   "source": [
    "## Paesi in cui sono stati effettuati piu acquisti"
   ]
  },
  {
   "cell_type": "code",
   "execution_count": null,
   "metadata": {},
   "outputs": [],
   "source": [
    "df.groupby('CustomerCountry')[\"BasketID\"].nunique().plot(kind='bar',\n",
    "\n",
    "title='Best buy coutry')"
   ]
  },
  {
   "cell_type": "code",
   "execution_count": null,
   "metadata": {},
   "outputs": [],
   "source": [
    "#verificare a cosa è dovuta la variazione di prezzo\n",
    "df.groupby([\"ProdID\",'Qta'])[\"Sale\"].unique()"
   ]
  },
  {
   "cell_type": "markdown",
   "metadata": {},
   "source": [
    "# ASSESSING DATA QUALITY (MISSING VALUES, OUTLIERS)"
   ]
  },
  {
   "cell_type": "code",
   "execution_count": null,
   "metadata": {},
   "outputs": [],
   "source": [
    "df.info()"
   ]
  },
  {
   "cell_type": "markdown",
   "metadata": {},
   "source": [
    "Si osserva che le uniche quantità settate a NaN sono `CustomerID` e le `ProdDescr`. I record che non hanno `CustomerID` non portano informazioni riguardo al profilo del cliente, mentre la `ProdDescr` può essere recuperata dai record con lo stesso `ProdID`."
   ]
  },
  {
   "cell_type": "code",
   "execution_count": null,
   "metadata": {},
   "outputs": [],
   "source": [
    "x = df[(df[\"ProdDescr\"].fillna(\"\").str.islower())]\n",
    "display(x)\n",
    "display(\"Number of BasketIDs\", x[\"BasketID\"].nunique())"
   ]
  },
  {
   "cell_type": "markdown",
   "metadata": {},
   "source": [
    "Tutti i record che hanno `ProdDescr` scritta tutta in minuscolo hanno `CustomerID` a NaN e il loro carrello (`BasketID`) contiene un solo elemento. Si può quindi supporre che non si riferiscano ad una vera e propria transazione con un cliente, e si sceglie di eliminarli dal dataset."
   ]
  },
  {
   "cell_type": "code",
   "execution_count": null,
   "metadata": {},
   "outputs": [],
   "source": [
    "df = df[~(df[\"ProdDescr\"].fillna(\"\").str.islower())]"
   ]
  },
  {
   "cell_type": "markdown",
   "metadata": {},
   "source": [
    "## Outliers nella quantità (`Qta`)\n",
    "\n",
    "La distribuzione della quantità segue la seguente distribuzione:"
   ]
  },
  {
   "cell_type": "code",
   "execution_count": null,
   "metadata": {},
   "outputs": [],
   "source": [
    "boxplot = df.boxplot(column=['Qta'])"
   ]
  },
  {
   "cell_type": "markdown",
   "metadata": {},
   "source": [
    "Analizziamo meglio i record che si mostrano esterni al box plot:"
   ]
  },
  {
   "cell_type": "code",
   "execution_count": null,
   "metadata": {},
   "outputs": [],
   "source": [
    "df[(df[\"Qta\"] < -60000) | (df[\"Qta\"] > 60000)]"
   ]
  },
  {
   "cell_type": "markdown",
   "metadata": {},
   "source": [
    "Questi 4 record hanno le stesse caratteristiche e si eliminano a vicenda, per cui non portano informazione e possono essere eliminati."
   ]
  },
  {
   "cell_type": "code",
   "execution_count": null,
   "metadata": {},
   "outputs": [],
   "source": [
    "df = df[(df[\"Qta\"] > -60000) & (df[\"Qta\"] < 60000)]"
   ]
  },
  {
   "cell_type": "code",
   "execution_count": null,
   "metadata": {},
   "outputs": [],
   "source": [
    "df[(df[\"Qta\"] > -5000) & (df[\"Qta\"] < 5000)].boxplot(column=\"Qta\")"
   ]
  },
  {
   "cell_type": "code",
   "execution_count": null,
   "metadata": {},
   "outputs": [],
   "source": [
    "df[(df[\"Qta\"] < 0)]\n",
    "#9752 record"
   ]
  },
  {
   "cell_type": "code",
   "execution_count": null,
   "metadata": {},
   "outputs": [],
   "source": [
    "df[(df[\"Qta\"] < 0) & (df[\"BasketID\"].str.startswith(\"C\"))]\n",
    "#9084 di 9752 hanno BasketId che inizia con C, tutti con CustomerID \n",
    "#diverso da Nan ==> vengono mantenuti "
   ]
  },
  {
   "cell_type": "code",
   "execution_count": null,
   "metadata": {},
   "outputs": [],
   "source": [
    "df[(df[\"Qta\"] < 0) & (df[\"BasketID\"].str.startswith(\"C\")) & (df['CustomerID'].isnull())]\n",
    "#179 record con CustomerId=Nan ==> rimossi"
   ]
  },
  {
   "cell_type": "code",
   "execution_count": null,
   "metadata": {},
   "outputs": [],
   "source": [
    "df[(df[\"Qta\"] < 0) & (df[\"BasketID\"].str.startswith(\"C\")) & ~(df['CustomerID'].isnull())]\n",
    "#infatti abbiamo 8905 record con CustomerID != Nan\n",
    "#8905+179=9084"
   ]
  },
  {
   "cell_type": "code",
   "execution_count": null,
   "metadata": {},
   "outputs": [],
   "source": [
    "df[df[\"Sale\"] > 30000] #manual di valore massimo \n",
    "df[(df[\"ProdDescr\"] == 'Manual')]\n",
    "#se esiste un solo ProdId che ha tale Sale, possiamo fixarlo, altrimenti rimuoviamo/decidere\n",
    "#potrebbe essere roba inserita a mano"
   ]
  },
  {
   "cell_type": "markdown",
   "metadata": {},
   "source": [
    "Boxplot raggruppato per paese"
   ]
  },
  {
   "cell_type": "code",
   "execution_count": null,
   "metadata": {},
   "outputs": [],
   "source": [
    "df.boxplot(column=[\"CustomerID\"], by=\"CustomerCountry\")"
   ]
  },
  {
   "cell_type": "markdown",
   "metadata": {},
   "source": [
    "# Outliers in Sale"
   ]
  },
  {
   "cell_type": "code",
   "execution_count": null,
   "metadata": {},
   "outputs": [],
   "source": [
    "df[\"Sale\"].plot.box()"
   ]
  },
  {
   "cell_type": "code",
   "execution_count": null,
   "metadata": {},
   "outputs": [],
   "source": [
    "df[(df[\"Sale\"] < 0)]\n",
    "#vengono rimossi"
   ]
  },
  {
   "cell_type": "code",
   "execution_count": null,
   "metadata": {},
   "outputs": [],
   "source": [
    "df=df[(df[\"Sale\"] >= 0)]"
   ]
  },
  {
   "cell_type": "code",
   "execution_count": null,
   "metadata": {},
   "outputs": [],
   "source": [
    "df[df[\"Sale\"] > 30000]\n",
    "#viene mantenuto in quanto ha informazioni"
   ]
  },
  {
   "cell_type": "markdown",
   "metadata": {},
   "source": [
    "# VARIABLES TRANSFORMATION & GENERATION"
   ]
  },
  {
   "cell_type": "markdown",
   "metadata": {},
   "source": [
    "## Prezzo nullo\n",
    "\n",
    "I record con prezzo 0 si considerano missing values, per cui si cerca di recuperare il valore di `Sale` a partire dalla media dei prezzi dello stesso `ProdID`."
   ]
  },
  {
   "cell_type": "code",
   "execution_count": null,
   "metadata": {},
   "outputs": [],
   "source": [
    "df[\"Sale\"] = df.groupby(\"ProdID\")[\"Sale\"].transform(lambda group: group.replace(to_replace=0, method=\"ffill\", value = group.mean()))"
   ]
  },
  {
   "cell_type": "markdown",
   "metadata": {},
   "source": [
    "## ProdDescr non disponibile\n",
    "\n",
    "Per rendere più interpretabili certe analisi riteniamo che sia utile recuperare la `ProdDescr` degli elementi che non l'hanno settata. Analogamente al caso precedente, si costruisce una funzione che recupera la descrizione di ogni prodotto dagli altri record."
   ]
  },
  {
   "cell_type": "code",
   "execution_count": null,
   "metadata": {},
   "outputs": [],
   "source": [
    "def replace_first_notna(group: pd.Series, column: str):\n",
    "    # Indice del primo record con ProdID comune non NaN\n",
    "    i: int = group.first_valid_index()\n",
    "    # Se i è None non ci sono ProdDescr valide\n",
    "    if i is None:\n",
    "        return group\n",
    "    # Valore di ProdDescr valido\n",
    "    value = df.loc[i][column]\n",
    "    return group.fillna(value)\n",
    " \n",
    "df[\"ProdDescr\"] = df.groupby(\"ProdID\")[\"ProdDescr\"].transform(lambda x: replace_first_notna(x, \"ProdDescr\"))"
   ]
  },
  {
   "cell_type": "code",
   "execution_count": null,
   "metadata": {},
   "outputs": [],
   "source": [
    "df[df[\"ProdDescr\"].isnull()]"
   ]
  },
  {
   "cell_type": "markdown",
   "metadata": {},
   "source": [
    "# PAIRWISE CORRELATION & ELIMINATION OF REDUNTANT VARIABLES\n",
    "\n",
    "Si discretizzano le variabili non numeriche all'interno del dataset:"
   ]
  },
  {
   "cell_type": "code",
   "execution_count": null,
   "metadata": {},
   "outputs": [],
   "source": [
    "from sklearn.preprocessing import LabelEncoder\n",
    "le = LabelEncoder()\n",
    "df_copy = df.copy()\n",
    "for column in {\"BasketID\", \"BasketDate\", \"CustomerCountry\", \"ProdID\", \"ProdDescr\"}:\n",
    "    df_copy[column] = le.fit_transform(df_copy[column].astype(str))"
   ]
  },
  {
   "cell_type": "markdown",
   "metadata": {},
   "source": [
    "Si definisce la matrice di correlazione tra gli attributi:"
   ]
  },
  {
   "cell_type": "code",
   "execution_count": null,
   "metadata": {},
   "outputs": [],
   "source": [
    "df_copy.corr().abs().style.background_gradient(cmap='coolwarm')"
   ]
  },
  {
   "cell_type": "markdown",
   "metadata": {},
   "source": [
    "Dato che non si osservano correlazioni notevoli (maggiori dell'80%) non è il caso di eliminare attributi ridondanti."
   ]
  },
  {
   "cell_type": "code",
   "execution_count": null,
   "metadata": {},
   "outputs": [],
   "source": [
    "df.to_csv(\"./preprocessed.csv\")"
   ]
  },
  {
   "cell_type": "markdown",
   "metadata": {},
   "source": [
    "# DATA PREPARATION\n",
    "\n",
    "Costruzione di attributi che caratterizzano il comportamento di un utente.\n",
    "\n",
    "Si caricano i dati preprocessati, considerando per ora solo quelli con `CustomerID` non nullo:"
   ]
  },
  {
   "cell_type": "code",
   "execution_count": 3,
   "metadata": {},
   "outputs": [
    {
     "output_type": "execute_result",
     "data": {
      "text/plain": [
       "       BasketID          BasketDate   Sale  CustomerID CustomerCountry  \\\n",
       "0        536365 2010-01-12 08:26:00   2.55     17850.0  United Kingdom   \n",
       "1        536365 2010-01-12 08:26:00   3.39     17850.0  United Kingdom   \n",
       "2        536365 2010-01-12 08:26:00   2.75     17850.0  United Kingdom   \n",
       "3        536365 2010-01-12 08:26:00   3.39     17850.0  United Kingdom   \n",
       "4        536365 2010-01-12 08:26:00   3.39     17850.0  United Kingdom   \n",
       "...         ...                 ...    ...         ...             ...   \n",
       "541905   581587 2011-09-12 12:50:00   2.10     12680.0          France   \n",
       "541906   581587 2011-09-12 12:50:00   4.15     12680.0          France   \n",
       "541907   581587 2011-09-12 12:50:00   4.15     12680.0          France   \n",
       "541908   581587 2011-09-12 12:50:00   4.95     12680.0          France   \n",
       "541909   581587 2011-09-12 12:50:00  18.00     12680.0          France   \n",
       "\n",
       "        ProdID                            ProdDescr  Qta  \n",
       "0       85123A   WHITE HANGING HEART T-LIGHT HOLDER    6  \n",
       "1        71053                  WHITE METAL LANTERN    6  \n",
       "2       84406B       CREAM CUPID HEARTS COAT HANGER    8  \n",
       "3       84029G  KNITTED UNION FLAG HOT WATER BOTTLE    6  \n",
       "4       84029E       RED WOOLLY HOTTIE WHITE HEART.    6  \n",
       "...        ...                                  ...  ...  \n",
       "541905   22899         CHILDREN'S APRON DOLLY GIRL     6  \n",
       "541906   23254        CHILDRENS CUTLERY DOLLY GIRL     4  \n",
       "541907   23255      CHILDRENS CUTLERY CIRCUS PARADE    4  \n",
       "541908   22138        BAKING SET 9 PIECE RETROSPOT     3  \n",
       "541909    POST                              POSTAGE    1  \n",
       "\n",
       "[406826 rows x 8 columns]"
      ],
      "text/html": "<div>\n<style scoped>\n    .dataframe tbody tr th:only-of-type {\n        vertical-align: middle;\n    }\n\n    .dataframe tbody tr th {\n        vertical-align: top;\n    }\n\n    .dataframe thead th {\n        text-align: right;\n    }\n</style>\n<table border=\"1\" class=\"dataframe\">\n  <thead>\n    <tr style=\"text-align: right;\">\n      <th></th>\n      <th>BasketID</th>\n      <th>BasketDate</th>\n      <th>Sale</th>\n      <th>CustomerID</th>\n      <th>CustomerCountry</th>\n      <th>ProdID</th>\n      <th>ProdDescr</th>\n      <th>Qta</th>\n    </tr>\n  </thead>\n  <tbody>\n    <tr>\n      <th>0</th>\n      <td>536365</td>\n      <td>2010-01-12 08:26:00</td>\n      <td>2.55</td>\n      <td>17850.0</td>\n      <td>United Kingdom</td>\n      <td>85123A</td>\n      <td>WHITE HANGING HEART T-LIGHT HOLDER</td>\n      <td>6</td>\n    </tr>\n    <tr>\n      <th>1</th>\n      <td>536365</td>\n      <td>2010-01-12 08:26:00</td>\n      <td>3.39</td>\n      <td>17850.0</td>\n      <td>United Kingdom</td>\n      <td>71053</td>\n      <td>WHITE METAL LANTERN</td>\n      <td>6</td>\n    </tr>\n    <tr>\n      <th>2</th>\n      <td>536365</td>\n      <td>2010-01-12 08:26:00</td>\n      <td>2.75</td>\n      <td>17850.0</td>\n      <td>United Kingdom</td>\n      <td>84406B</td>\n      <td>CREAM CUPID HEARTS COAT HANGER</td>\n      <td>8</td>\n    </tr>\n    <tr>\n      <th>3</th>\n      <td>536365</td>\n      <td>2010-01-12 08:26:00</td>\n      <td>3.39</td>\n      <td>17850.0</td>\n      <td>United Kingdom</td>\n      <td>84029G</td>\n      <td>KNITTED UNION FLAG HOT WATER BOTTLE</td>\n      <td>6</td>\n    </tr>\n    <tr>\n      <th>4</th>\n      <td>536365</td>\n      <td>2010-01-12 08:26:00</td>\n      <td>3.39</td>\n      <td>17850.0</td>\n      <td>United Kingdom</td>\n      <td>84029E</td>\n      <td>RED WOOLLY HOTTIE WHITE HEART.</td>\n      <td>6</td>\n    </tr>\n    <tr>\n      <th>...</th>\n      <td>...</td>\n      <td>...</td>\n      <td>...</td>\n      <td>...</td>\n      <td>...</td>\n      <td>...</td>\n      <td>...</td>\n      <td>...</td>\n    </tr>\n    <tr>\n      <th>541905</th>\n      <td>581587</td>\n      <td>2011-09-12 12:50:00</td>\n      <td>2.10</td>\n      <td>12680.0</td>\n      <td>France</td>\n      <td>22899</td>\n      <td>CHILDREN'S APRON DOLLY GIRL</td>\n      <td>6</td>\n    </tr>\n    <tr>\n      <th>541906</th>\n      <td>581587</td>\n      <td>2011-09-12 12:50:00</td>\n      <td>4.15</td>\n      <td>12680.0</td>\n      <td>France</td>\n      <td>23254</td>\n      <td>CHILDRENS CUTLERY DOLLY GIRL</td>\n      <td>4</td>\n    </tr>\n    <tr>\n      <th>541907</th>\n      <td>581587</td>\n      <td>2011-09-12 12:50:00</td>\n      <td>4.15</td>\n      <td>12680.0</td>\n      <td>France</td>\n      <td>23255</td>\n      <td>CHILDRENS CUTLERY CIRCUS PARADE</td>\n      <td>4</td>\n    </tr>\n    <tr>\n      <th>541908</th>\n      <td>581587</td>\n      <td>2011-09-12 12:50:00</td>\n      <td>4.95</td>\n      <td>12680.0</td>\n      <td>France</td>\n      <td>22138</td>\n      <td>BAKING SET 9 PIECE RETROSPOT</td>\n      <td>3</td>\n    </tr>\n    <tr>\n      <th>541909</th>\n      <td>581587</td>\n      <td>2011-09-12 12:50:00</td>\n      <td>18.00</td>\n      <td>12680.0</td>\n      <td>France</td>\n      <td>POST</td>\n      <td>POSTAGE</td>\n      <td>1</td>\n    </tr>\n  </tbody>\n</table>\n<p>406826 rows × 8 columns</p>\n</div>"
     },
     "metadata": {},
     "execution_count": 3
    }
   ],
   "source": [
    "df = pd.read_csv(\"./preprocessed.csv\", index_col=0)\n",
    "df = df[~(df[\"CustomerID\"].isnull())]\n",
    "df[\"BasketDate\"] = pd.to_datetime(df[\"BasketDate\"])\n",
    "df"
   ]
  },
  {
   "cell_type": "code",
   "execution_count": 4,
   "metadata": {},
   "outputs": [],
   "source": [
    "from sklearn.preprocessing import LabelEncoder\n",
    "\n",
    "label = LabelEncoder()\n",
    "\n",
    "df[\"CustomerCountry\"] = label.fit_transform(df[\"CustomerCountry\"])"
   ]
  },
  {
   "cell_type": "code",
   "execution_count": 5,
   "metadata": {},
   "outputs": [
    {
     "output_type": "execute_result",
     "data": {
      "text/plain": [
       "              I   Iu  spending  Imax  returned_items  best_country  returning  \\\n",
       "CustomerID                                                                      \n",
       "12347.0     182  103   4310.00   676               0            16       0.00   \n",
       "12348.0      31   22   1797.24  1254               0            12       0.00   \n",
       "12349.0      73   73   1757.55   631               0            18       0.00   \n",
       "12350.0      17   17    334.40   197               0            24       0.00   \n",
       "12352.0      95   59   2506.04   127              66            24    -960.63   \n",
       "...         ...  ...       ...   ...             ...           ...        ...   \n",
       "18280.0      10   10    180.60    45               0            35       0.00   \n",
       "18281.0       7    7     80.82    54               0            35       0.00   \n",
       "18282.0      13   12    178.05    75               5            35      -1.45   \n",
       "18283.0     756  263   2094.88   251               0            35       0.00   \n",
       "18287.0      70   59   1837.28   990               0            35       0.00   \n",
       "\n",
       "            max_cost  min_cost  most_bought_cost  most_returned_cost  \\\n",
       "CustomerID                                                             \n",
       "12347.0        12.75       NaN              3.75                0.00   \n",
       "12348.0        40.00       NaN              0.29                0.00   \n",
       "12349.0       300.00       NaN              1.65                0.00   \n",
       "12350.0        40.00       NaN              1.25                0.00   \n",
       "12352.0       376.50      1.25              4.95                2.95   \n",
       "...              ...       ...               ...                 ...   \n",
       "18280.0         9.95       NaN              2.95                0.00   \n",
       "18281.0        16.95       NaN              0.42                0.00   \n",
       "18282.0        12.75      0.29             12.75                0.29   \n",
       "18283.0        15.95       NaN              1.65                0.00   \n",
       "18287.0         8.50       NaN              1.25                0.00   \n",
       "\n",
       "            avg_bought  avg_returned  hour  month  baskets         E  \n",
       "CustomerID                                                            \n",
       "12347.0       2.644011      2.644011    14      7        7  6.015601  \n",
       "12348.0       5.764839      5.764839    19     12        4  4.233442  \n",
       "12349.0       8.289041      8.289041     9     11        1  5.802215  \n",
       "12350.0       3.841176      3.841176    16      2        1  3.977269  \n",
       "12352.0      15.930706     15.930706    14      3       11  5.567352  \n",
       "...                ...           ...   ...    ...      ...       ...  \n",
       "18280.0       4.765000      4.765000     9      7        1  3.207542  \n",
       "18281.0       5.622857      5.622857    10     12        1  2.462523  \n",
       "18282.0       5.199167      5.199167    13      5        3  2.660805  \n",
       "18283.0       1.614987      1.614987    14      6       16  7.281375  \n",
       "18287.0       1.493571      1.493571    10     12        3  5.450173  \n",
       "\n",
       "[4371 rows x 17 columns]"
      ],
      "text/html": "<div>\n<style scoped>\n    .dataframe tbody tr th:only-of-type {\n        vertical-align: middle;\n    }\n\n    .dataframe tbody tr th {\n        vertical-align: top;\n    }\n\n    .dataframe thead th {\n        text-align: right;\n    }\n</style>\n<table border=\"1\" class=\"dataframe\">\n  <thead>\n    <tr style=\"text-align: right;\">\n      <th></th>\n      <th>I</th>\n      <th>Iu</th>\n      <th>spending</th>\n      <th>Imax</th>\n      <th>returned_items</th>\n      <th>best_country</th>\n      <th>returning</th>\n      <th>max_cost</th>\n      <th>min_cost</th>\n      <th>most_bought_cost</th>\n      <th>most_returned_cost</th>\n      <th>avg_bought</th>\n      <th>avg_returned</th>\n      <th>hour</th>\n      <th>month</th>\n      <th>baskets</th>\n      <th>E</th>\n    </tr>\n    <tr>\n      <th>CustomerID</th>\n      <th></th>\n      <th></th>\n      <th></th>\n      <th></th>\n      <th></th>\n      <th></th>\n      <th></th>\n      <th></th>\n      <th></th>\n      <th></th>\n      <th></th>\n      <th></th>\n      <th></th>\n      <th></th>\n      <th></th>\n      <th></th>\n      <th></th>\n    </tr>\n  </thead>\n  <tbody>\n    <tr>\n      <th>12347.0</th>\n      <td>182</td>\n      <td>103</td>\n      <td>4310.00</td>\n      <td>676</td>\n      <td>0</td>\n      <td>16</td>\n      <td>0.00</td>\n      <td>12.75</td>\n      <td>NaN</td>\n      <td>3.75</td>\n      <td>0.00</td>\n      <td>2.644011</td>\n      <td>2.644011</td>\n      <td>14</td>\n      <td>7</td>\n      <td>7</td>\n      <td>6.015601</td>\n    </tr>\n    <tr>\n      <th>12348.0</th>\n      <td>31</td>\n      <td>22</td>\n      <td>1797.24</td>\n      <td>1254</td>\n      <td>0</td>\n      <td>12</td>\n      <td>0.00</td>\n      <td>40.00</td>\n      <td>NaN</td>\n      <td>0.29</td>\n      <td>0.00</td>\n      <td>5.764839</td>\n      <td>5.764839</td>\n      <td>19</td>\n      <td>12</td>\n      <td>4</td>\n      <td>4.233442</td>\n    </tr>\n    <tr>\n      <th>12349.0</th>\n      <td>73</td>\n      <td>73</td>\n      <td>1757.55</td>\n      <td>631</td>\n      <td>0</td>\n      <td>18</td>\n      <td>0.00</td>\n      <td>300.00</td>\n      <td>NaN</td>\n      <td>1.65</td>\n      <td>0.00</td>\n      <td>8.289041</td>\n      <td>8.289041</td>\n      <td>9</td>\n      <td>11</td>\n      <td>1</td>\n      <td>5.802215</td>\n    </tr>\n    <tr>\n      <th>12350.0</th>\n      <td>17</td>\n      <td>17</td>\n      <td>334.40</td>\n      <td>197</td>\n      <td>0</td>\n      <td>24</td>\n      <td>0.00</td>\n      <td>40.00</td>\n      <td>NaN</td>\n      <td>1.25</td>\n      <td>0.00</td>\n      <td>3.841176</td>\n      <td>3.841176</td>\n      <td>16</td>\n      <td>2</td>\n      <td>1</td>\n      <td>3.977269</td>\n    </tr>\n    <tr>\n      <th>12352.0</th>\n      <td>95</td>\n      <td>59</td>\n      <td>2506.04</td>\n      <td>127</td>\n      <td>66</td>\n      <td>24</td>\n      <td>-960.63</td>\n      <td>376.50</td>\n      <td>1.25</td>\n      <td>4.95</td>\n      <td>2.95</td>\n      <td>15.930706</td>\n      <td>15.930706</td>\n      <td>14</td>\n      <td>3</td>\n      <td>11</td>\n      <td>5.567352</td>\n    </tr>\n    <tr>\n      <th>...</th>\n      <td>...</td>\n      <td>...</td>\n      <td>...</td>\n      <td>...</td>\n      <td>...</td>\n      <td>...</td>\n      <td>...</td>\n      <td>...</td>\n      <td>...</td>\n      <td>...</td>\n      <td>...</td>\n      <td>...</td>\n      <td>...</td>\n      <td>...</td>\n      <td>...</td>\n      <td>...</td>\n      <td>...</td>\n    </tr>\n    <tr>\n      <th>18280.0</th>\n      <td>10</td>\n      <td>10</td>\n      <td>180.60</td>\n      <td>45</td>\n      <td>0</td>\n      <td>35</td>\n      <td>0.00</td>\n      <td>9.95</td>\n      <td>NaN</td>\n      <td>2.95</td>\n      <td>0.00</td>\n      <td>4.765000</td>\n      <td>4.765000</td>\n      <td>9</td>\n      <td>7</td>\n      <td>1</td>\n      <td>3.207542</td>\n    </tr>\n    <tr>\n      <th>18281.0</th>\n      <td>7</td>\n      <td>7</td>\n      <td>80.82</td>\n      <td>54</td>\n      <td>0</td>\n      <td>35</td>\n      <td>0.00</td>\n      <td>16.95</td>\n      <td>NaN</td>\n      <td>0.42</td>\n      <td>0.00</td>\n      <td>5.622857</td>\n      <td>5.622857</td>\n      <td>10</td>\n      <td>12</td>\n      <td>1</td>\n      <td>2.462523</td>\n    </tr>\n    <tr>\n      <th>18282.0</th>\n      <td>13</td>\n      <td>12</td>\n      <td>178.05</td>\n      <td>75</td>\n      <td>5</td>\n      <td>35</td>\n      <td>-1.45</td>\n      <td>12.75</td>\n      <td>0.29</td>\n      <td>12.75</td>\n      <td>0.29</td>\n      <td>5.199167</td>\n      <td>5.199167</td>\n      <td>13</td>\n      <td>5</td>\n      <td>3</td>\n      <td>2.660805</td>\n    </tr>\n    <tr>\n      <th>18283.0</th>\n      <td>756</td>\n      <td>263</td>\n      <td>2094.88</td>\n      <td>251</td>\n      <td>0</td>\n      <td>35</td>\n      <td>0.00</td>\n      <td>15.95</td>\n      <td>NaN</td>\n      <td>1.65</td>\n      <td>0.00</td>\n      <td>1.614987</td>\n      <td>1.614987</td>\n      <td>14</td>\n      <td>6</td>\n      <td>16</td>\n      <td>7.281375</td>\n    </tr>\n    <tr>\n      <th>18287.0</th>\n      <td>70</td>\n      <td>59</td>\n      <td>1837.28</td>\n      <td>990</td>\n      <td>0</td>\n      <td>35</td>\n      <td>0.00</td>\n      <td>8.50</td>\n      <td>NaN</td>\n      <td>1.25</td>\n      <td>0.00</td>\n      <td>1.493571</td>\n      <td>1.493571</td>\n      <td>10</td>\n      <td>12</td>\n      <td>3</td>\n      <td>5.450173</td>\n    </tr>\n  </tbody>\n</table>\n<p>4371 rows × 17 columns</p>\n</div>"
     },
     "metadata": {},
     "execution_count": 5
    }
   ],
   "source": [
    "from indicators import customer_features\n",
    "\n",
    "customer_indicators = df.groupby(\"CustomerID\").apply(customer_features)\n",
    "customer_indicators = pd.DataFrame(customer_indicators.values.tolist(), index=customer_indicators.index)\n",
    "customer_indicators"
   ]
  },
  {
   "source": [
    "Per preparare adeguatamente il clustering si normalizzano i valori numerici e si assegnano label numeriche agli attributi non testuali."
   ],
   "cell_type": "markdown",
   "metadata": {}
  },
  {
   "cell_type": "code",
   "execution_count": 6,
   "metadata": {},
   "outputs": [
    {
     "output_type": "execute_result",
     "data": {
      "text/plain": [
       "                   I        Iu  spending      Imax  returned_items  \\\n",
       "CustomerID                                                           \n",
       "12347.0     0.022676  0.056888  0.015336  0.060158        0.000000   \n",
       "12348.0     0.003758  0.011712  0.006395  0.097953        0.000000   \n",
       "12349.0     0.009020  0.040156  0.006254  0.057216        0.000000   \n",
       "12350.0     0.002005  0.008924  0.001190  0.028837        0.000000   \n",
       "12352.0     0.011776  0.032348  0.008917  0.024259        0.007051   \n",
       "...              ...       ...       ...       ...             ...   \n",
       "18280.0     0.001128  0.005020  0.000643  0.018898        0.000000   \n",
       "18281.0     0.000752  0.003346  0.000288  0.019486        0.000000   \n",
       "18282.0     0.001503  0.006135  0.000634  0.020859        0.000534   \n",
       "18283.0     0.094588  0.146124  0.007454  0.032368        0.000000   \n",
       "18287.0     0.008644  0.032348  0.006537  0.080691        0.000000   \n",
       "\n",
       "            best_country  returning  max_cost  min_cost  most_bought_cost  \\\n",
       "CustomerID                                                                  \n",
       "12347.0               16   1.000000  0.001566  0.000000          0.001844   \n",
       "12348.0               12   1.000000  0.004912  0.000000          0.000143   \n",
       "12349.0               18   1.000000  0.036843  0.000000          0.000812   \n",
       "12350.0               24   1.000000  0.004912  0.000000          0.000615   \n",
       "12352.0               24   0.975536  0.046237  0.000292          0.002435   \n",
       "...                  ...        ...       ...       ...               ...   \n",
       "18280.0               35   1.000000  0.001222  0.000000          0.001451   \n",
       "18281.0               35   1.000000  0.002082  0.000000          0.000207   \n",
       "18282.0               35   0.999963  0.001566  0.000068          0.006271   \n",
       "18283.0               35   1.000000  0.001959  0.000000          0.000812   \n",
       "18287.0               35   1.000000  0.001044  0.000000          0.000615   \n",
       "\n",
       "            most_returned_cost  avg_bought  avg_returned  hour  month  \\\n",
       "CustomerID                                                              \n",
       "12347.0               0.000000    0.001300      0.001300    14      7   \n",
       "12348.0               0.000000    0.002835      0.002835    19     12   \n",
       "12349.0               0.000000    0.004077      0.004077     9     11   \n",
       "12350.0               0.000000    0.001889      0.001889    16      2   \n",
       "12352.0               0.000688    0.007836      0.007836    14      3   \n",
       "...                        ...         ...           ...   ...    ...   \n",
       "18280.0               0.000000    0.002344      0.002344     9      7   \n",
       "18281.0               0.000000    0.002766      0.002766    10     12   \n",
       "18282.0               0.000068    0.002557      0.002557    13      5   \n",
       "18283.0               0.000000    0.000794      0.000794    14      6   \n",
       "18287.0               0.000000    0.000735      0.000735    10     12   \n",
       "\n",
       "             baskets         E  \n",
       "CustomerID                      \n",
       "12347.0     0.024291  0.628213  \n",
       "12348.0     0.012146  0.442101  \n",
       "12349.0     0.000000  0.605929  \n",
       "12350.0     0.000000  0.415349  \n",
       "12352.0     0.040486  0.581402  \n",
       "...              ...       ...  \n",
       "18280.0     0.000000  0.334966  \n",
       "18281.0     0.000000  0.257163  \n",
       "18282.0     0.008097  0.277870  \n",
       "18283.0     0.060729  0.760399  \n",
       "18287.0     0.008097  0.569165  \n",
       "\n",
       "[4371 rows x 17 columns]"
      ],
      "text/html": "<div>\n<style scoped>\n    .dataframe tbody tr th:only-of-type {\n        vertical-align: middle;\n    }\n\n    .dataframe tbody tr th {\n        vertical-align: top;\n    }\n\n    .dataframe thead th {\n        text-align: right;\n    }\n</style>\n<table border=\"1\" class=\"dataframe\">\n  <thead>\n    <tr style=\"text-align: right;\">\n      <th></th>\n      <th>I</th>\n      <th>Iu</th>\n      <th>spending</th>\n      <th>Imax</th>\n      <th>returned_items</th>\n      <th>best_country</th>\n      <th>returning</th>\n      <th>max_cost</th>\n      <th>min_cost</th>\n      <th>most_bought_cost</th>\n      <th>most_returned_cost</th>\n      <th>avg_bought</th>\n      <th>avg_returned</th>\n      <th>hour</th>\n      <th>month</th>\n      <th>baskets</th>\n      <th>E</th>\n    </tr>\n    <tr>\n      <th>CustomerID</th>\n      <th></th>\n      <th></th>\n      <th></th>\n      <th></th>\n      <th></th>\n      <th></th>\n      <th></th>\n      <th></th>\n      <th></th>\n      <th></th>\n      <th></th>\n      <th></th>\n      <th></th>\n      <th></th>\n      <th></th>\n      <th></th>\n      <th></th>\n    </tr>\n  </thead>\n  <tbody>\n    <tr>\n      <th>12347.0</th>\n      <td>0.022676</td>\n      <td>0.056888</td>\n      <td>0.015336</td>\n      <td>0.060158</td>\n      <td>0.000000</td>\n      <td>16</td>\n      <td>1.000000</td>\n      <td>0.001566</td>\n      <td>0.000000</td>\n      <td>0.001844</td>\n      <td>0.000000</td>\n      <td>0.001300</td>\n      <td>0.001300</td>\n      <td>14</td>\n      <td>7</td>\n      <td>0.024291</td>\n      <td>0.628213</td>\n    </tr>\n    <tr>\n      <th>12348.0</th>\n      <td>0.003758</td>\n      <td>0.011712</td>\n      <td>0.006395</td>\n      <td>0.097953</td>\n      <td>0.000000</td>\n      <td>12</td>\n      <td>1.000000</td>\n      <td>0.004912</td>\n      <td>0.000000</td>\n      <td>0.000143</td>\n      <td>0.000000</td>\n      <td>0.002835</td>\n      <td>0.002835</td>\n      <td>19</td>\n      <td>12</td>\n      <td>0.012146</td>\n      <td>0.442101</td>\n    </tr>\n    <tr>\n      <th>12349.0</th>\n      <td>0.009020</td>\n      <td>0.040156</td>\n      <td>0.006254</td>\n      <td>0.057216</td>\n      <td>0.000000</td>\n      <td>18</td>\n      <td>1.000000</td>\n      <td>0.036843</td>\n      <td>0.000000</td>\n      <td>0.000812</td>\n      <td>0.000000</td>\n      <td>0.004077</td>\n      <td>0.004077</td>\n      <td>9</td>\n      <td>11</td>\n      <td>0.000000</td>\n      <td>0.605929</td>\n    </tr>\n    <tr>\n      <th>12350.0</th>\n      <td>0.002005</td>\n      <td>0.008924</td>\n      <td>0.001190</td>\n      <td>0.028837</td>\n      <td>0.000000</td>\n      <td>24</td>\n      <td>1.000000</td>\n      <td>0.004912</td>\n      <td>0.000000</td>\n      <td>0.000615</td>\n      <td>0.000000</td>\n      <td>0.001889</td>\n      <td>0.001889</td>\n      <td>16</td>\n      <td>2</td>\n      <td>0.000000</td>\n      <td>0.415349</td>\n    </tr>\n    <tr>\n      <th>12352.0</th>\n      <td>0.011776</td>\n      <td>0.032348</td>\n      <td>0.008917</td>\n      <td>0.024259</td>\n      <td>0.007051</td>\n      <td>24</td>\n      <td>0.975536</td>\n      <td>0.046237</td>\n      <td>0.000292</td>\n      <td>0.002435</td>\n      <td>0.000688</td>\n      <td>0.007836</td>\n      <td>0.007836</td>\n      <td>14</td>\n      <td>3</td>\n      <td>0.040486</td>\n      <td>0.581402</td>\n    </tr>\n    <tr>\n      <th>...</th>\n      <td>...</td>\n      <td>...</td>\n      <td>...</td>\n      <td>...</td>\n      <td>...</td>\n      <td>...</td>\n      <td>...</td>\n      <td>...</td>\n      <td>...</td>\n      <td>...</td>\n      <td>...</td>\n      <td>...</td>\n      <td>...</td>\n      <td>...</td>\n      <td>...</td>\n      <td>...</td>\n      <td>...</td>\n    </tr>\n    <tr>\n      <th>18280.0</th>\n      <td>0.001128</td>\n      <td>0.005020</td>\n      <td>0.000643</td>\n      <td>0.018898</td>\n      <td>0.000000</td>\n      <td>35</td>\n      <td>1.000000</td>\n      <td>0.001222</td>\n      <td>0.000000</td>\n      <td>0.001451</td>\n      <td>0.000000</td>\n      <td>0.002344</td>\n      <td>0.002344</td>\n      <td>9</td>\n      <td>7</td>\n      <td>0.000000</td>\n      <td>0.334966</td>\n    </tr>\n    <tr>\n      <th>18281.0</th>\n      <td>0.000752</td>\n      <td>0.003346</td>\n      <td>0.000288</td>\n      <td>0.019486</td>\n      <td>0.000000</td>\n      <td>35</td>\n      <td>1.000000</td>\n      <td>0.002082</td>\n      <td>0.000000</td>\n      <td>0.000207</td>\n      <td>0.000000</td>\n      <td>0.002766</td>\n      <td>0.002766</td>\n      <td>10</td>\n      <td>12</td>\n      <td>0.000000</td>\n      <td>0.257163</td>\n    </tr>\n    <tr>\n      <th>18282.0</th>\n      <td>0.001503</td>\n      <td>0.006135</td>\n      <td>0.000634</td>\n      <td>0.020859</td>\n      <td>0.000534</td>\n      <td>35</td>\n      <td>0.999963</td>\n      <td>0.001566</td>\n      <td>0.000068</td>\n      <td>0.006271</td>\n      <td>0.000068</td>\n      <td>0.002557</td>\n      <td>0.002557</td>\n      <td>13</td>\n      <td>5</td>\n      <td>0.008097</td>\n      <td>0.277870</td>\n    </tr>\n    <tr>\n      <th>18283.0</th>\n      <td>0.094588</td>\n      <td>0.146124</td>\n      <td>0.007454</td>\n      <td>0.032368</td>\n      <td>0.000000</td>\n      <td>35</td>\n      <td>1.000000</td>\n      <td>0.001959</td>\n      <td>0.000000</td>\n      <td>0.000812</td>\n      <td>0.000000</td>\n      <td>0.000794</td>\n      <td>0.000794</td>\n      <td>14</td>\n      <td>6</td>\n      <td>0.060729</td>\n      <td>0.760399</td>\n    </tr>\n    <tr>\n      <th>18287.0</th>\n      <td>0.008644</td>\n      <td>0.032348</td>\n      <td>0.006537</td>\n      <td>0.080691</td>\n      <td>0.000000</td>\n      <td>35</td>\n      <td>1.000000</td>\n      <td>0.001044</td>\n      <td>0.000000</td>\n      <td>0.000615</td>\n      <td>0.000000</td>\n      <td>0.000735</td>\n      <td>0.000735</td>\n      <td>10</td>\n      <td>12</td>\n      <td>0.008097</td>\n      <td>0.569165</td>\n    </tr>\n  </tbody>\n</table>\n<p>4371 rows × 17 columns</p>\n</div>"
     },
     "metadata": {},
     "execution_count": 6
    }
   ],
   "source": [
    "from sklearn.preprocessing import StandardScaler, MinMaxScaler\n",
    "\n",
    "scaler = MinMaxScaler()\n",
    "\n",
    "labels = list(set(customer_indicators.columns) - {\"best_country\", \"hour\", \"month\"})\n",
    "\n",
    "customer_indicators[labels] = scaler.fit_transform(customer_indicators[labels].fillna(0).values)\n",
    "customer_indicators"
   ]
  },
  {
   "source": [
    "## Hierarchical clustering\n",
    "\n",
    "Si sperimentano varie invocazioni del metodo `linkage` e come i dendrogrammi generati cambiano al variare delle metriche adottate."
   ],
   "cell_type": "markdown",
   "metadata": {}
  },
  {
   "cell_type": "code",
   "execution_count": 7,
   "metadata": {},
   "outputs": [],
   "source": [
    "from matplotlib import pyplot as plt\n",
    "from scipy.cluster.hierarchy import dendrogram\n",
    "from sklearn.cluster import AgglomerativeClustering\n",
    "\n",
    "def plot_dendrogram(model, **kwargs):\n",
    "    # Create linkage matrix and then plot the dendrogram\n",
    "\n",
    "    # create the counts of samples under each node\n",
    "    counts = np.zeros(model.children_.shape[0])\n",
    "    n_samples = len(model.labels_)\n",
    "    for i, merge in enumerate(model.children_):\n",
    "        current_count = 0\n",
    "        for child_idx in merge:\n",
    "            if child_idx < n_samples:\n",
    "                current_count += 1  # leaf node\n",
    "            else:\n",
    "                current_count += counts[child_idx - n_samples]\n",
    "        counts[i] = current_count\n",
    "\n",
    "    linkage_matrix = np.column_stack([model.children_, model.distances_,\n",
    "                                      counts]).astype(float)\n",
    "\n",
    "    # Plot the corresponding dendrogram\n",
    "    dendrogram(linkage_matrix, **kwargs)\n"
   ]
  },
  {
   "cell_type": "code",
   "execution_count": 8,
   "metadata": {},
   "outputs": [],
   "source": [
    "X = customer_indicators.values"
   ]
  },
  {
   "cell_type": "code",
   "execution_count": 10,
   "metadata": {},
   "outputs": [
    {
     "output_type": "display_data",
     "data": {
      "text/plain": "<Figure size 432x288 with 1 Axes>",
      "image/svg+xml": "<?xml version=\"1.0\" encoding=\"utf-8\" standalone=\"no\"?>\n<!DOCTYPE svg PUBLIC \"-//W3C//DTD SVG 1.1//EN\"\n  \"http://www.w3.org/Graphics/SVG/1.1/DTD/svg11.dtd\">\n<!-- Created with matplotlib (https://matplotlib.org/) -->\n<svg height=\"279.25pt\" version=\"1.1\" viewBox=\"0 0 380.959375 279.25\" width=\"380.959375pt\" xmlns=\"http://www.w3.org/2000/svg\" xmlns:xlink=\"http://www.w3.org/1999/xlink\">\n <metadata>\n  <rdf:RDF xmlns:cc=\"http://creativecommons.org/ns#\" xmlns:dc=\"http://purl.org/dc/elements/1.1/\" xmlns:rdf=\"http://www.w3.org/1999/02/22-rdf-syntax-ns#\">\n   <cc:Work>\n    <dc:type rdf:resource=\"http://purl.org/dc/dcmitype/StillImage\"/>\n    <dc:date>2020-11-07T19:30:27.285885</dc:date>\n    <dc:format>image/svg+xml</dc:format>\n    <dc:creator>\n     <cc:Agent>\n      <dc:title>Matplotlib v3.3.2, https://matplotlib.org/</dc:title>\n     </cc:Agent>\n    </dc:creator>\n   </cc:Work>\n  </rdf:RDF>\n </metadata>\n <defs>\n  <style type=\"text/css\">*{stroke-linecap:butt;stroke-linejoin:round;}</style>\n </defs>\n <g id=\"figure_1\">\n  <g id=\"patch_1\">\n   <path d=\"M 0 279.25 \nL 380.959375 279.25 \nL 380.959375 0 \nL 0 0 \nz\n\" style=\"fill:none;\"/>\n  </g>\n  <g id=\"axes_1\">\n   <g id=\"patch_2\">\n    <path d=\"M 33.2875 239.758125 \nL 368.0875 239.758125 \nL 368.0875 22.318125 \nL 33.2875 22.318125 \nz\n\" style=\"fill:#ffffff;\"/>\n   </g>\n   <g id=\"matplotlib.axis_1\">\n    <g id=\"xtick_1\">\n     <g id=\"text_1\">\n      <!-- (17) -->\n      <g transform=\"translate(31.433125 255.87625)scale(0.12 -0.12)\">\n       <defs>\n        <path d=\"M 31 75.875 \nQ 24.46875 64.65625 21.28125 53.65625 \nQ 18.109375 42.671875 18.109375 31.390625 \nQ 18.109375 20.125 21.3125 9.0625 \nQ 24.515625 -2 31 -13.1875 \nL 23.1875 -13.1875 \nQ 15.875 -1.703125 12.234375 9.375 \nQ 8.59375 20.453125 8.59375 31.390625 \nQ 8.59375 42.28125 12.203125 53.3125 \nQ 15.828125 64.359375 23.1875 75.875 \nz\n\" id=\"DejaVuSans-40\"/>\n        <path d=\"M 12.40625 8.296875 \nL 28.515625 8.296875 \nL 28.515625 63.921875 \nL 10.984375 60.40625 \nL 10.984375 69.390625 \nL 28.421875 72.90625 \nL 38.28125 72.90625 \nL 38.28125 8.296875 \nL 54.390625 8.296875 \nL 54.390625 0 \nL 12.40625 0 \nz\n\" id=\"DejaVuSans-49\"/>\n        <path d=\"M 8.203125 72.90625 \nL 55.078125 72.90625 \nL 55.078125 68.703125 \nL 28.609375 0 \nL 18.3125 0 \nL 43.21875 64.59375 \nL 8.203125 64.59375 \nz\n\" id=\"DejaVuSans-55\"/>\n        <path d=\"M 8.015625 75.875 \nL 15.828125 75.875 \nQ 23.140625 64.359375 26.78125 53.3125 \nQ 30.421875 42.28125 30.421875 31.390625 \nQ 30.421875 20.453125 26.78125 9.375 \nQ 23.140625 -1.703125 15.828125 -13.1875 \nL 8.015625 -13.1875 \nQ 14.5 -2 17.703125 9.0625 \nQ 20.90625 20.125 20.90625 31.390625 \nQ 20.90625 42.671875 17.703125 53.65625 \nQ 14.5 64.65625 8.015625 75.875 \nz\n\" id=\"DejaVuSans-41\"/>\n       </defs>\n       <use xlink:href=\"#DejaVuSans-40\"/>\n       <use x=\"39.013672\" xlink:href=\"#DejaVuSans-49\"/>\n       <use x=\"102.636719\" xlink:href=\"#DejaVuSans-55\"/>\n       <use x=\"166.259766\" xlink:href=\"#DejaVuSans-41\"/>\n      </g>\n     </g>\n    </g>\n    <g id=\"xtick_2\">\n     <g id=\"text_2\">\n      <!-- (15) -->\n      <g transform=\"translate(52.358125 255.87625)scale(0.12 -0.12)\">\n       <defs>\n        <path d=\"M 10.796875 72.90625 \nL 49.515625 72.90625 \nL 49.515625 64.59375 \nL 19.828125 64.59375 \nL 19.828125 46.734375 \nQ 21.96875 47.46875 24.109375 47.828125 \nQ 26.265625 48.1875 28.421875 48.1875 \nQ 40.625 48.1875 47.75 41.5 \nQ 54.890625 34.8125 54.890625 23.390625 \nQ 54.890625 11.625 47.5625 5.09375 \nQ 40.234375 -1.421875 26.90625 -1.421875 \nQ 22.3125 -1.421875 17.546875 -0.640625 \nQ 12.796875 0.140625 7.71875 1.703125 \nL 7.71875 11.625 \nQ 12.109375 9.234375 16.796875 8.0625 \nQ 21.484375 6.890625 26.703125 6.890625 \nQ 35.15625 6.890625 40.078125 11.328125 \nQ 45.015625 15.765625 45.015625 23.390625 \nQ 45.015625 31 40.078125 35.4375 \nQ 35.15625 39.890625 26.703125 39.890625 \nQ 22.75 39.890625 18.8125 39.015625 \nQ 14.890625 38.140625 10.796875 36.28125 \nz\n\" id=\"DejaVuSans-53\"/>\n       </defs>\n       <use xlink:href=\"#DejaVuSans-40\"/>\n       <use x=\"39.013672\" xlink:href=\"#DejaVuSans-49\"/>\n       <use x=\"102.636719\" xlink:href=\"#DejaVuSans-53\"/>\n       <use x=\"166.259766\" xlink:href=\"#DejaVuSans-41\"/>\n      </g>\n     </g>\n    </g>\n    <g id=\"xtick_3\">\n     <g id=\"text_3\">\n      <!-- (16) -->\n      <g transform=\"translate(73.283125 255.87625)scale(0.12 -0.12)\">\n       <defs>\n        <path d=\"M 33.015625 40.375 \nQ 26.375 40.375 22.484375 35.828125 \nQ 18.609375 31.296875 18.609375 23.390625 \nQ 18.609375 15.53125 22.484375 10.953125 \nQ 26.375 6.390625 33.015625 6.390625 \nQ 39.65625 6.390625 43.53125 10.953125 \nQ 47.40625 15.53125 47.40625 23.390625 \nQ 47.40625 31.296875 43.53125 35.828125 \nQ 39.65625 40.375 33.015625 40.375 \nz\nM 52.59375 71.296875 \nL 52.59375 62.3125 \nQ 48.875 64.0625 45.09375 64.984375 \nQ 41.3125 65.921875 37.59375 65.921875 \nQ 27.828125 65.921875 22.671875 59.328125 \nQ 17.53125 52.734375 16.796875 39.40625 \nQ 19.671875 43.65625 24.015625 45.921875 \nQ 28.375 48.1875 33.59375 48.1875 \nQ 44.578125 48.1875 50.953125 41.515625 \nQ 57.328125 34.859375 57.328125 23.390625 \nQ 57.328125 12.15625 50.6875 5.359375 \nQ 44.046875 -1.421875 33.015625 -1.421875 \nQ 20.359375 -1.421875 13.671875 8.265625 \nQ 6.984375 17.96875 6.984375 36.375 \nQ 6.984375 53.65625 15.1875 63.9375 \nQ 23.390625 74.21875 37.203125 74.21875 \nQ 40.921875 74.21875 44.703125 73.484375 \nQ 48.484375 72.75 52.59375 71.296875 \nz\n\" id=\"DejaVuSans-54\"/>\n       </defs>\n       <use xlink:href=\"#DejaVuSans-40\"/>\n       <use x=\"39.013672\" xlink:href=\"#DejaVuSans-49\"/>\n       <use x=\"102.636719\" xlink:href=\"#DejaVuSans-54\"/>\n       <use x=\"166.259766\" xlink:href=\"#DejaVuSans-41\"/>\n      </g>\n     </g>\n    </g>\n    <g id=\"xtick_4\">\n     <g id=\"text_4\">\n      <!-- (15) -->\n      <g transform=\"translate(94.208125 255.87625)scale(0.12 -0.12)\">\n       <use xlink:href=\"#DejaVuSans-40\"/>\n       <use x=\"39.013672\" xlink:href=\"#DejaVuSans-49\"/>\n       <use x=\"102.636719\" xlink:href=\"#DejaVuSans-53\"/>\n       <use x=\"166.259766\" xlink:href=\"#DejaVuSans-41\"/>\n      </g>\n     </g>\n    </g>\n    <g id=\"xtick_5\">\n     <g id=\"text_5\">\n      <!-- (39) -->\n      <g transform=\"translate(115.133125 255.87625)scale(0.12 -0.12)\">\n       <defs>\n        <path d=\"M 40.578125 39.3125 \nQ 47.65625 37.796875 51.625 33 \nQ 55.609375 28.21875 55.609375 21.1875 \nQ 55.609375 10.40625 48.1875 4.484375 \nQ 40.765625 -1.421875 27.09375 -1.421875 \nQ 22.515625 -1.421875 17.65625 -0.515625 \nQ 12.796875 0.390625 7.625 2.203125 \nL 7.625 11.71875 \nQ 11.71875 9.328125 16.59375 8.109375 \nQ 21.484375 6.890625 26.8125 6.890625 \nQ 36.078125 6.890625 40.9375 10.546875 \nQ 45.796875 14.203125 45.796875 21.1875 \nQ 45.796875 27.640625 41.28125 31.265625 \nQ 36.765625 34.90625 28.71875 34.90625 \nL 20.21875 34.90625 \nL 20.21875 43.015625 \nL 29.109375 43.015625 \nQ 36.375 43.015625 40.234375 45.921875 \nQ 44.09375 48.828125 44.09375 54.296875 \nQ 44.09375 59.90625 40.109375 62.90625 \nQ 36.140625 65.921875 28.71875 65.921875 \nQ 24.65625 65.921875 20.015625 65.03125 \nQ 15.375 64.15625 9.8125 62.3125 \nL 9.8125 71.09375 \nQ 15.4375 72.65625 20.34375 73.4375 \nQ 25.25 74.21875 29.59375 74.21875 \nQ 40.828125 74.21875 47.359375 69.109375 \nQ 53.90625 64.015625 53.90625 55.328125 \nQ 53.90625 49.265625 50.4375 45.09375 \nQ 46.96875 40.921875 40.578125 39.3125 \nz\n\" id=\"DejaVuSans-51\"/>\n        <path d=\"M 10.984375 1.515625 \nL 10.984375 10.5 \nQ 14.703125 8.734375 18.5 7.8125 \nQ 22.3125 6.890625 25.984375 6.890625 \nQ 35.75 6.890625 40.890625 13.453125 \nQ 46.046875 20.015625 46.78125 33.40625 \nQ 43.953125 29.203125 39.59375 26.953125 \nQ 35.25 24.703125 29.984375 24.703125 \nQ 19.046875 24.703125 12.671875 31.3125 \nQ 6.296875 37.9375 6.296875 49.421875 \nQ 6.296875 60.640625 12.9375 67.421875 \nQ 19.578125 74.21875 30.609375 74.21875 \nQ 43.265625 74.21875 49.921875 64.515625 \nQ 56.59375 54.828125 56.59375 36.375 \nQ 56.59375 19.140625 48.40625 8.859375 \nQ 40.234375 -1.421875 26.421875 -1.421875 \nQ 22.703125 -1.421875 18.890625 -0.6875 \nQ 15.09375 0.046875 10.984375 1.515625 \nz\nM 30.609375 32.421875 \nQ 37.25 32.421875 41.125 36.953125 \nQ 45.015625 41.5 45.015625 49.421875 \nQ 45.015625 57.28125 41.125 61.84375 \nQ 37.25 66.40625 30.609375 66.40625 \nQ 23.96875 66.40625 20.09375 61.84375 \nQ 16.21875 57.28125 16.21875 49.421875 \nQ 16.21875 41.5 20.09375 36.953125 \nQ 23.96875 32.421875 30.609375 32.421875 \nz\n\" id=\"DejaVuSans-57\"/>\n       </defs>\n       <use xlink:href=\"#DejaVuSans-40\"/>\n       <use x=\"39.013672\" xlink:href=\"#DejaVuSans-51\"/>\n       <use x=\"102.636719\" xlink:href=\"#DejaVuSans-57\"/>\n       <use x=\"166.259766\" xlink:href=\"#DejaVuSans-41\"/>\n      </g>\n     </g>\n    </g>\n    <g id=\"xtick_6\">\n     <g id=\"text_6\">\n      <!-- (66) -->\n      <g transform=\"translate(136.058125 255.87625)scale(0.12 -0.12)\">\n       <use xlink:href=\"#DejaVuSans-40\"/>\n       <use x=\"39.013672\" xlink:href=\"#DejaVuSans-54\"/>\n       <use x=\"102.636719\" xlink:href=\"#DejaVuSans-54\"/>\n       <use x=\"166.259766\" xlink:href=\"#DejaVuSans-41\"/>\n      </g>\n     </g>\n    </g>\n    <g id=\"xtick_7\">\n     <g id=\"text_7\">\n      <!-- (66) -->\n      <g transform=\"translate(156.983125 255.87625)scale(0.12 -0.12)\">\n       <use xlink:href=\"#DejaVuSans-40\"/>\n       <use x=\"39.013672\" xlink:href=\"#DejaVuSans-54\"/>\n       <use x=\"102.636719\" xlink:href=\"#DejaVuSans-54\"/>\n       <use x=\"166.259766\" xlink:href=\"#DejaVuSans-41\"/>\n      </g>\n     </g>\n    </g>\n    <g id=\"xtick_8\">\n     <g id=\"text_8\">\n      <!-- (58) -->\n      <g transform=\"translate(177.908125 255.87625)scale(0.12 -0.12)\">\n       <defs>\n        <path d=\"M 31.78125 34.625 \nQ 24.75 34.625 20.71875 30.859375 \nQ 16.703125 27.09375 16.703125 20.515625 \nQ 16.703125 13.921875 20.71875 10.15625 \nQ 24.75 6.390625 31.78125 6.390625 \nQ 38.8125 6.390625 42.859375 10.171875 \nQ 46.921875 13.96875 46.921875 20.515625 \nQ 46.921875 27.09375 42.890625 30.859375 \nQ 38.875 34.625 31.78125 34.625 \nz\nM 21.921875 38.8125 \nQ 15.578125 40.375 12.03125 44.71875 \nQ 8.5 49.078125 8.5 55.328125 \nQ 8.5 64.0625 14.71875 69.140625 \nQ 20.953125 74.21875 31.78125 74.21875 \nQ 42.671875 74.21875 48.875 69.140625 \nQ 55.078125 64.0625 55.078125 55.328125 \nQ 55.078125 49.078125 51.53125 44.71875 \nQ 48 40.375 41.703125 38.8125 \nQ 48.828125 37.15625 52.796875 32.3125 \nQ 56.78125 27.484375 56.78125 20.515625 \nQ 56.78125 9.90625 50.3125 4.234375 \nQ 43.84375 -1.421875 31.78125 -1.421875 \nQ 19.734375 -1.421875 13.25 4.234375 \nQ 6.78125 9.90625 6.78125 20.515625 \nQ 6.78125 27.484375 10.78125 32.3125 \nQ 14.796875 37.15625 21.921875 38.8125 \nz\nM 18.3125 54.390625 \nQ 18.3125 48.734375 21.84375 45.5625 \nQ 25.390625 42.390625 31.78125 42.390625 \nQ 38.140625 42.390625 41.71875 45.5625 \nQ 45.3125 48.734375 45.3125 54.390625 \nQ 45.3125 60.0625 41.71875 63.234375 \nQ 38.140625 66.40625 31.78125 66.40625 \nQ 25.390625 66.40625 21.84375 63.234375 \nQ 18.3125 60.0625 18.3125 54.390625 \nz\n\" id=\"DejaVuSans-56\"/>\n       </defs>\n       <use xlink:href=\"#DejaVuSans-40\"/>\n       <use x=\"39.013672\" xlink:href=\"#DejaVuSans-53\"/>\n       <use x=\"102.636719\" xlink:href=\"#DejaVuSans-56\"/>\n       <use x=\"166.259766\" xlink:href=\"#DejaVuSans-41\"/>\n      </g>\n     </g>\n    </g>\n    <g id=\"xtick_9\">\n     <g id=\"text_9\">\n      <!-- (281) -->\n      <g transform=\"translate(195.015625 255.87625)scale(0.12 -0.12)\">\n       <defs>\n        <path d=\"M 19.1875 8.296875 \nL 53.609375 8.296875 \nL 53.609375 0 \nL 7.328125 0 \nL 7.328125 8.296875 \nQ 12.9375 14.109375 22.625 23.890625 \nQ 32.328125 33.6875 34.8125 36.53125 \nQ 39.546875 41.84375 41.421875 45.53125 \nQ 43.3125 49.21875 43.3125 52.78125 \nQ 43.3125 58.59375 39.234375 62.25 \nQ 35.15625 65.921875 28.609375 65.921875 \nQ 23.96875 65.921875 18.8125 64.3125 \nQ 13.671875 62.703125 7.8125 59.421875 \nL 7.8125 69.390625 \nQ 13.765625 71.78125 18.9375 73 \nQ 24.125 74.21875 28.421875 74.21875 \nQ 39.75 74.21875 46.484375 68.546875 \nQ 53.21875 62.890625 53.21875 53.421875 \nQ 53.21875 48.921875 51.53125 44.890625 \nQ 49.859375 40.875 45.40625 35.40625 \nQ 44.1875 33.984375 37.640625 27.21875 \nQ 31.109375 20.453125 19.1875 8.296875 \nz\n\" id=\"DejaVuSans-50\"/>\n       </defs>\n       <use xlink:href=\"#DejaVuSans-40\"/>\n       <use x=\"39.013672\" xlink:href=\"#DejaVuSans-50\"/>\n       <use x=\"102.636719\" xlink:href=\"#DejaVuSans-56\"/>\n       <use x=\"166.259766\" xlink:href=\"#DejaVuSans-49\"/>\n       <use x=\"229.882812\" xlink:href=\"#DejaVuSans-41\"/>\n      </g>\n     </g>\n    </g>\n    <g id=\"xtick_10\">\n     <g id=\"text_10\">\n      <!-- (334) -->\n      <g transform=\"translate(215.940625 255.87625)scale(0.12 -0.12)\">\n       <defs>\n        <path d=\"M 37.796875 64.3125 \nL 12.890625 25.390625 \nL 37.796875 25.390625 \nz\nM 35.203125 72.90625 \nL 47.609375 72.90625 \nL 47.609375 25.390625 \nL 58.015625 25.390625 \nL 58.015625 17.1875 \nL 47.609375 17.1875 \nL 47.609375 0 \nL 37.796875 0 \nL 37.796875 17.1875 \nL 4.890625 17.1875 \nL 4.890625 26.703125 \nz\n\" id=\"DejaVuSans-52\"/>\n       </defs>\n       <use xlink:href=\"#DejaVuSans-40\"/>\n       <use x=\"39.013672\" xlink:href=\"#DejaVuSans-51\"/>\n       <use x=\"102.636719\" xlink:href=\"#DejaVuSans-51\"/>\n       <use x=\"166.259766\" xlink:href=\"#DejaVuSans-52\"/>\n       <use x=\"229.882812\" xlink:href=\"#DejaVuSans-41\"/>\n      </g>\n     </g>\n    </g>\n    <g id=\"xtick_11\">\n     <g id=\"text_11\">\n      <!-- (406) -->\n      <g transform=\"translate(236.865625 255.87625)scale(0.12 -0.12)\">\n       <defs>\n        <path d=\"M 31.78125 66.40625 \nQ 24.171875 66.40625 20.328125 58.90625 \nQ 16.5 51.421875 16.5 36.375 \nQ 16.5 21.390625 20.328125 13.890625 \nQ 24.171875 6.390625 31.78125 6.390625 \nQ 39.453125 6.390625 43.28125 13.890625 \nQ 47.125 21.390625 47.125 36.375 \nQ 47.125 51.421875 43.28125 58.90625 \nQ 39.453125 66.40625 31.78125 66.40625 \nz\nM 31.78125 74.21875 \nQ 44.046875 74.21875 50.515625 64.515625 \nQ 56.984375 54.828125 56.984375 36.375 \nQ 56.984375 17.96875 50.515625 8.265625 \nQ 44.046875 -1.421875 31.78125 -1.421875 \nQ 19.53125 -1.421875 13.0625 8.265625 \nQ 6.59375 17.96875 6.59375 36.375 \nQ 6.59375 54.828125 13.0625 64.515625 \nQ 19.53125 74.21875 31.78125 74.21875 \nz\n\" id=\"DejaVuSans-48\"/>\n       </defs>\n       <use xlink:href=\"#DejaVuSans-40\"/>\n       <use x=\"39.013672\" xlink:href=\"#DejaVuSans-52\"/>\n       <use x=\"102.636719\" xlink:href=\"#DejaVuSans-48\"/>\n       <use x=\"166.259766\" xlink:href=\"#DejaVuSans-54\"/>\n       <use x=\"229.882812\" xlink:href=\"#DejaVuSans-41\"/>\n      </g>\n     </g>\n    </g>\n    <g id=\"xtick_12\">\n     <g id=\"text_12\">\n      <!-- (311) -->\n      <g transform=\"translate(257.790625 255.87625)scale(0.12 -0.12)\">\n       <use xlink:href=\"#DejaVuSans-40\"/>\n       <use x=\"39.013672\" xlink:href=\"#DejaVuSans-51\"/>\n       <use x=\"102.636719\" xlink:href=\"#DejaVuSans-49\"/>\n       <use x=\"166.259766\" xlink:href=\"#DejaVuSans-49\"/>\n       <use x=\"229.882812\" xlink:href=\"#DejaVuSans-41\"/>\n      </g>\n     </g>\n    </g>\n    <g id=\"xtick_13\">\n     <g id=\"text_13\">\n      <!-- (493) -->\n      <g transform=\"translate(278.715625 255.87625)scale(0.12 -0.12)\">\n       <use xlink:href=\"#DejaVuSans-40\"/>\n       <use x=\"39.013672\" xlink:href=\"#DejaVuSans-52\"/>\n       <use x=\"102.636719\" xlink:href=\"#DejaVuSans-57\"/>\n       <use x=\"166.259766\" xlink:href=\"#DejaVuSans-51\"/>\n       <use x=\"229.882812\" xlink:href=\"#DejaVuSans-41\"/>\n      </g>\n     </g>\n    </g>\n    <g id=\"xtick_14\">\n     <g id=\"text_14\">\n      <!-- (1201) -->\n      <g transform=\"translate(295.823125 255.87625)scale(0.12 -0.12)\">\n       <use xlink:href=\"#DejaVuSans-40\"/>\n       <use x=\"39.013672\" xlink:href=\"#DejaVuSans-49\"/>\n       <use x=\"102.636719\" xlink:href=\"#DejaVuSans-50\"/>\n       <use x=\"166.259766\" xlink:href=\"#DejaVuSans-48\"/>\n       <use x=\"229.882812\" xlink:href=\"#DejaVuSans-49\"/>\n       <use x=\"293.505859\" xlink:href=\"#DejaVuSans-41\"/>\n      </g>\n     </g>\n    </g>\n    <g id=\"xtick_15\">\n     <g id=\"text_15\">\n      <!-- (113) -->\n      <g transform=\"translate(320.565625 255.87625)scale(0.12 -0.12)\">\n       <use xlink:href=\"#DejaVuSans-40\"/>\n       <use x=\"39.013672\" xlink:href=\"#DejaVuSans-49\"/>\n       <use x=\"102.636719\" xlink:href=\"#DejaVuSans-49\"/>\n       <use x=\"166.259766\" xlink:href=\"#DejaVuSans-51\"/>\n       <use x=\"229.882812\" xlink:href=\"#DejaVuSans-41\"/>\n      </g>\n     </g>\n    </g>\n    <g id=\"xtick_16\">\n     <g id=\"text_16\">\n      <!-- (940) -->\n      <g transform=\"translate(341.490625 255.87625)scale(0.12 -0.12)\">\n       <use xlink:href=\"#DejaVuSans-40\"/>\n       <use x=\"39.013672\" xlink:href=\"#DejaVuSans-57\"/>\n       <use x=\"102.636719\" xlink:href=\"#DejaVuSans-52\"/>\n       <use x=\"166.259766\" xlink:href=\"#DejaVuSans-48\"/>\n       <use x=\"229.882812\" xlink:href=\"#DejaVuSans-41\"/>\n      </g>\n     </g>\n    </g>\n    <g id=\"text_17\">\n     <!-- Number of points in node (or index of point if no parenthesis). -->\n     <g transform=\"translate(45.444531 269.970312)scale(0.1 -0.1)\">\n      <defs>\n       <path d=\"M 9.8125 72.90625 \nL 23.09375 72.90625 \nL 55.421875 11.921875 \nL 55.421875 72.90625 \nL 64.984375 72.90625 \nL 64.984375 0 \nL 51.703125 0 \nL 19.390625 60.984375 \nL 19.390625 0 \nL 9.8125 0 \nz\n\" id=\"DejaVuSans-78\"/>\n       <path d=\"M 8.5 21.578125 \nL 8.5 54.6875 \nL 17.484375 54.6875 \nL 17.484375 21.921875 \nQ 17.484375 14.15625 20.5 10.265625 \nQ 23.53125 6.390625 29.59375 6.390625 \nQ 36.859375 6.390625 41.078125 11.03125 \nQ 45.3125 15.671875 45.3125 23.6875 \nL 45.3125 54.6875 \nL 54.296875 54.6875 \nL 54.296875 0 \nL 45.3125 0 \nL 45.3125 8.40625 \nQ 42.046875 3.421875 37.71875 1 \nQ 33.40625 -1.421875 27.6875 -1.421875 \nQ 18.265625 -1.421875 13.375 4.4375 \nQ 8.5 10.296875 8.5 21.578125 \nz\nM 31.109375 56 \nz\n\" id=\"DejaVuSans-117\"/>\n       <path d=\"M 52 44.1875 \nQ 55.375 50.25 60.0625 53.125 \nQ 64.75 56 71.09375 56 \nQ 79.640625 56 84.28125 50.015625 \nQ 88.921875 44.046875 88.921875 33.015625 \nL 88.921875 0 \nL 79.890625 0 \nL 79.890625 32.71875 \nQ 79.890625 40.578125 77.09375 44.375 \nQ 74.3125 48.1875 68.609375 48.1875 \nQ 61.625 48.1875 57.5625 43.546875 \nQ 53.515625 38.921875 53.515625 30.90625 \nL 53.515625 0 \nL 44.484375 0 \nL 44.484375 32.71875 \nQ 44.484375 40.625 41.703125 44.40625 \nQ 38.921875 48.1875 33.109375 48.1875 \nQ 26.21875 48.1875 22.15625 43.53125 \nQ 18.109375 38.875 18.109375 30.90625 \nL 18.109375 0 \nL 9.078125 0 \nL 9.078125 54.6875 \nL 18.109375 54.6875 \nL 18.109375 46.1875 \nQ 21.1875 51.21875 25.484375 53.609375 \nQ 29.78125 56 35.6875 56 \nQ 41.65625 56 45.828125 52.96875 \nQ 50 49.953125 52 44.1875 \nz\n\" id=\"DejaVuSans-109\"/>\n       <path d=\"M 48.6875 27.296875 \nQ 48.6875 37.203125 44.609375 42.84375 \nQ 40.53125 48.484375 33.40625 48.484375 \nQ 26.265625 48.484375 22.1875 42.84375 \nQ 18.109375 37.203125 18.109375 27.296875 \nQ 18.109375 17.390625 22.1875 11.75 \nQ 26.265625 6.109375 33.40625 6.109375 \nQ 40.53125 6.109375 44.609375 11.75 \nQ 48.6875 17.390625 48.6875 27.296875 \nz\nM 18.109375 46.390625 \nQ 20.953125 51.265625 25.265625 53.625 \nQ 29.59375 56 35.59375 56 \nQ 45.5625 56 51.78125 48.09375 \nQ 58.015625 40.1875 58.015625 27.296875 \nQ 58.015625 14.40625 51.78125 6.484375 \nQ 45.5625 -1.421875 35.59375 -1.421875 \nQ 29.59375 -1.421875 25.265625 0.953125 \nQ 20.953125 3.328125 18.109375 8.203125 \nL 18.109375 0 \nL 9.078125 0 \nL 9.078125 75.984375 \nL 18.109375 75.984375 \nz\n\" id=\"DejaVuSans-98\"/>\n       <path d=\"M 56.203125 29.59375 \nL 56.203125 25.203125 \nL 14.890625 25.203125 \nQ 15.484375 15.921875 20.484375 11.0625 \nQ 25.484375 6.203125 34.421875 6.203125 \nQ 39.59375 6.203125 44.453125 7.46875 \nQ 49.3125 8.734375 54.109375 11.28125 \nL 54.109375 2.78125 \nQ 49.265625 0.734375 44.1875 -0.34375 \nQ 39.109375 -1.421875 33.890625 -1.421875 \nQ 20.796875 -1.421875 13.15625 6.1875 \nQ 5.515625 13.8125 5.515625 26.8125 \nQ 5.515625 40.234375 12.765625 48.109375 \nQ 20.015625 56 32.328125 56 \nQ 43.359375 56 49.78125 48.890625 \nQ 56.203125 41.796875 56.203125 29.59375 \nz\nM 47.21875 32.234375 \nQ 47.125 39.59375 43.09375 43.984375 \nQ 39.0625 48.390625 32.421875 48.390625 \nQ 24.90625 48.390625 20.390625 44.140625 \nQ 15.875 39.890625 15.1875 32.171875 \nz\n\" id=\"DejaVuSans-101\"/>\n       <path d=\"M 41.109375 46.296875 \nQ 39.59375 47.171875 37.8125 47.578125 \nQ 36.03125 48 33.890625 48 \nQ 26.265625 48 22.1875 43.046875 \nQ 18.109375 38.09375 18.109375 28.8125 \nL 18.109375 0 \nL 9.078125 0 \nL 9.078125 54.6875 \nL 18.109375 54.6875 \nL 18.109375 46.1875 \nQ 20.953125 51.171875 25.484375 53.578125 \nQ 30.03125 56 36.53125 56 \nQ 37.453125 56 38.578125 55.875 \nQ 39.703125 55.765625 41.0625 55.515625 \nz\n\" id=\"DejaVuSans-114\"/>\n       <path id=\"DejaVuSans-32\"/>\n       <path d=\"M 30.609375 48.390625 \nQ 23.390625 48.390625 19.1875 42.75 \nQ 14.984375 37.109375 14.984375 27.296875 \nQ 14.984375 17.484375 19.15625 11.84375 \nQ 23.34375 6.203125 30.609375 6.203125 \nQ 37.796875 6.203125 41.984375 11.859375 \nQ 46.1875 17.53125 46.1875 27.296875 \nQ 46.1875 37.015625 41.984375 42.703125 \nQ 37.796875 48.390625 30.609375 48.390625 \nz\nM 30.609375 56 \nQ 42.328125 56 49.015625 48.375 \nQ 55.71875 40.765625 55.71875 27.296875 \nQ 55.71875 13.875 49.015625 6.21875 \nQ 42.328125 -1.421875 30.609375 -1.421875 \nQ 18.84375 -1.421875 12.171875 6.21875 \nQ 5.515625 13.875 5.515625 27.296875 \nQ 5.515625 40.765625 12.171875 48.375 \nQ 18.84375 56 30.609375 56 \nz\n\" id=\"DejaVuSans-111\"/>\n       <path d=\"M 37.109375 75.984375 \nL 37.109375 68.5 \nL 28.515625 68.5 \nQ 23.6875 68.5 21.796875 66.546875 \nQ 19.921875 64.59375 19.921875 59.515625 \nL 19.921875 54.6875 \nL 34.71875 54.6875 \nL 34.71875 47.703125 \nL 19.921875 47.703125 \nL 19.921875 0 \nL 10.890625 0 \nL 10.890625 47.703125 \nL 2.296875 47.703125 \nL 2.296875 54.6875 \nL 10.890625 54.6875 \nL 10.890625 58.5 \nQ 10.890625 67.625 15.140625 71.796875 \nQ 19.390625 75.984375 28.609375 75.984375 \nz\n\" id=\"DejaVuSans-102\"/>\n       <path d=\"M 18.109375 8.203125 \nL 18.109375 -20.796875 \nL 9.078125 -20.796875 \nL 9.078125 54.6875 \nL 18.109375 54.6875 \nL 18.109375 46.390625 \nQ 20.953125 51.265625 25.265625 53.625 \nQ 29.59375 56 35.59375 56 \nQ 45.5625 56 51.78125 48.09375 \nQ 58.015625 40.1875 58.015625 27.296875 \nQ 58.015625 14.40625 51.78125 6.484375 \nQ 45.5625 -1.421875 35.59375 -1.421875 \nQ 29.59375 -1.421875 25.265625 0.953125 \nQ 20.953125 3.328125 18.109375 8.203125 \nz\nM 48.6875 27.296875 \nQ 48.6875 37.203125 44.609375 42.84375 \nQ 40.53125 48.484375 33.40625 48.484375 \nQ 26.265625 48.484375 22.1875 42.84375 \nQ 18.109375 37.203125 18.109375 27.296875 \nQ 18.109375 17.390625 22.1875 11.75 \nQ 26.265625 6.109375 33.40625 6.109375 \nQ 40.53125 6.109375 44.609375 11.75 \nQ 48.6875 17.390625 48.6875 27.296875 \nz\n\" id=\"DejaVuSans-112\"/>\n       <path d=\"M 9.421875 54.6875 \nL 18.40625 54.6875 \nL 18.40625 0 \nL 9.421875 0 \nz\nM 9.421875 75.984375 \nL 18.40625 75.984375 \nL 18.40625 64.59375 \nL 9.421875 64.59375 \nz\n\" id=\"DejaVuSans-105\"/>\n       <path d=\"M 54.890625 33.015625 \nL 54.890625 0 \nL 45.90625 0 \nL 45.90625 32.71875 \nQ 45.90625 40.484375 42.875 44.328125 \nQ 39.84375 48.1875 33.796875 48.1875 \nQ 26.515625 48.1875 22.3125 43.546875 \nQ 18.109375 38.921875 18.109375 30.90625 \nL 18.109375 0 \nL 9.078125 0 \nL 9.078125 54.6875 \nL 18.109375 54.6875 \nL 18.109375 46.1875 \nQ 21.34375 51.125 25.703125 53.5625 \nQ 30.078125 56 35.796875 56 \nQ 45.21875 56 50.046875 50.171875 \nQ 54.890625 44.34375 54.890625 33.015625 \nz\n\" id=\"DejaVuSans-110\"/>\n       <path d=\"M 18.3125 70.21875 \nL 18.3125 54.6875 \nL 36.8125 54.6875 \nL 36.8125 47.703125 \nL 18.3125 47.703125 \nL 18.3125 18.015625 \nQ 18.3125 11.328125 20.140625 9.421875 \nQ 21.96875 7.515625 27.59375 7.515625 \nL 36.8125 7.515625 \nL 36.8125 0 \nL 27.59375 0 \nQ 17.1875 0 13.234375 3.875 \nQ 9.28125 7.765625 9.28125 18.015625 \nL 9.28125 47.703125 \nL 2.6875 47.703125 \nL 2.6875 54.6875 \nL 9.28125 54.6875 \nL 9.28125 70.21875 \nz\n\" id=\"DejaVuSans-116\"/>\n       <path d=\"M 44.28125 53.078125 \nL 44.28125 44.578125 \nQ 40.484375 46.53125 36.375 47.5 \nQ 32.28125 48.484375 27.875 48.484375 \nQ 21.1875 48.484375 17.84375 46.4375 \nQ 14.5 44.390625 14.5 40.28125 \nQ 14.5 37.15625 16.890625 35.375 \nQ 19.28125 33.59375 26.515625 31.984375 \nL 29.59375 31.296875 \nQ 39.15625 29.25 43.1875 25.515625 \nQ 47.21875 21.78125 47.21875 15.09375 \nQ 47.21875 7.46875 41.1875 3.015625 \nQ 35.15625 -1.421875 24.609375 -1.421875 \nQ 20.21875 -1.421875 15.453125 -0.5625 \nQ 10.6875 0.296875 5.421875 2 \nL 5.421875 11.28125 \nQ 10.40625 8.6875 15.234375 7.390625 \nQ 20.0625 6.109375 24.8125 6.109375 \nQ 31.15625 6.109375 34.5625 8.28125 \nQ 37.984375 10.453125 37.984375 14.40625 \nQ 37.984375 18.0625 35.515625 20.015625 \nQ 33.0625 21.96875 24.703125 23.78125 \nL 21.578125 24.515625 \nQ 13.234375 26.265625 9.515625 29.90625 \nQ 5.8125 33.546875 5.8125 39.890625 \nQ 5.8125 47.609375 11.28125 51.796875 \nQ 16.75 56 26.8125 56 \nQ 31.78125 56 36.171875 55.265625 \nQ 40.578125 54.546875 44.28125 53.078125 \nz\n\" id=\"DejaVuSans-115\"/>\n       <path d=\"M 45.40625 46.390625 \nL 45.40625 75.984375 \nL 54.390625 75.984375 \nL 54.390625 0 \nL 45.40625 0 \nL 45.40625 8.203125 \nQ 42.578125 3.328125 38.25 0.953125 \nQ 33.9375 -1.421875 27.875 -1.421875 \nQ 17.96875 -1.421875 11.734375 6.484375 \nQ 5.515625 14.40625 5.515625 27.296875 \nQ 5.515625 40.1875 11.734375 48.09375 \nQ 17.96875 56 27.875 56 \nQ 33.9375 56 38.25 53.625 \nQ 42.578125 51.265625 45.40625 46.390625 \nz\nM 14.796875 27.296875 \nQ 14.796875 17.390625 18.875 11.75 \nQ 22.953125 6.109375 30.078125 6.109375 \nQ 37.203125 6.109375 41.296875 11.75 \nQ 45.40625 17.390625 45.40625 27.296875 \nQ 45.40625 37.203125 41.296875 42.84375 \nQ 37.203125 48.484375 30.078125 48.484375 \nQ 22.953125 48.484375 18.875 42.84375 \nQ 14.796875 37.203125 14.796875 27.296875 \nz\n\" id=\"DejaVuSans-100\"/>\n       <path d=\"M 54.890625 54.6875 \nL 35.109375 28.078125 \nL 55.90625 0 \nL 45.3125 0 \nL 29.390625 21.484375 \nL 13.484375 0 \nL 2.875 0 \nL 24.125 28.609375 \nL 4.6875 54.6875 \nL 15.28125 54.6875 \nL 29.78125 35.203125 \nL 44.28125 54.6875 \nz\n\" id=\"DejaVuSans-120\"/>\n       <path d=\"M 34.28125 27.484375 \nQ 23.390625 27.484375 19.1875 25 \nQ 14.984375 22.515625 14.984375 16.5 \nQ 14.984375 11.71875 18.140625 8.90625 \nQ 21.296875 6.109375 26.703125 6.109375 \nQ 34.1875 6.109375 38.703125 11.40625 \nQ 43.21875 16.703125 43.21875 25.484375 \nL 43.21875 27.484375 \nz\nM 52.203125 31.203125 \nL 52.203125 0 \nL 43.21875 0 \nL 43.21875 8.296875 \nQ 40.140625 3.328125 35.546875 0.953125 \nQ 30.953125 -1.421875 24.3125 -1.421875 \nQ 15.921875 -1.421875 10.953125 3.296875 \nQ 6 8.015625 6 15.921875 \nQ 6 25.140625 12.171875 29.828125 \nQ 18.359375 34.515625 30.609375 34.515625 \nL 43.21875 34.515625 \nL 43.21875 35.40625 \nQ 43.21875 41.609375 39.140625 45 \nQ 35.0625 48.390625 27.6875 48.390625 \nQ 23 48.390625 18.546875 47.265625 \nQ 14.109375 46.140625 10.015625 43.890625 \nL 10.015625 52.203125 \nQ 14.9375 54.109375 19.578125 55.046875 \nQ 24.21875 56 28.609375 56 \nQ 40.484375 56 46.34375 49.84375 \nQ 52.203125 43.703125 52.203125 31.203125 \nz\n\" id=\"DejaVuSans-97\"/>\n       <path d=\"M 54.890625 33.015625 \nL 54.890625 0 \nL 45.90625 0 \nL 45.90625 32.71875 \nQ 45.90625 40.484375 42.875 44.328125 \nQ 39.84375 48.1875 33.796875 48.1875 \nQ 26.515625 48.1875 22.3125 43.546875 \nQ 18.109375 38.921875 18.109375 30.90625 \nL 18.109375 0 \nL 9.078125 0 \nL 9.078125 75.984375 \nL 18.109375 75.984375 \nL 18.109375 46.1875 \nQ 21.34375 51.125 25.703125 53.5625 \nQ 30.078125 56 35.796875 56 \nQ 45.21875 56 50.046875 50.171875 \nQ 54.890625 44.34375 54.890625 33.015625 \nz\n\" id=\"DejaVuSans-104\"/>\n       <path d=\"M 10.6875 12.40625 \nL 21 12.40625 \nL 21 0 \nL 10.6875 0 \nz\n\" id=\"DejaVuSans-46\"/>\n      </defs>\n      <use xlink:href=\"#DejaVuSans-78\"/>\n      <use x=\"74.804688\" xlink:href=\"#DejaVuSans-117\"/>\n      <use x=\"138.183594\" xlink:href=\"#DejaVuSans-109\"/>\n      <use x=\"235.595703\" xlink:href=\"#DejaVuSans-98\"/>\n      <use x=\"299.072266\" xlink:href=\"#DejaVuSans-101\"/>\n      <use x=\"360.595703\" xlink:href=\"#DejaVuSans-114\"/>\n      <use x=\"401.708984\" xlink:href=\"#DejaVuSans-32\"/>\n      <use x=\"433.496094\" xlink:href=\"#DejaVuSans-111\"/>\n      <use x=\"494.677734\" xlink:href=\"#DejaVuSans-102\"/>\n      <use x=\"529.882812\" xlink:href=\"#DejaVuSans-32\"/>\n      <use x=\"561.669922\" xlink:href=\"#DejaVuSans-112\"/>\n      <use x=\"625.146484\" xlink:href=\"#DejaVuSans-111\"/>\n      <use x=\"686.328125\" xlink:href=\"#DejaVuSans-105\"/>\n      <use x=\"714.111328\" xlink:href=\"#DejaVuSans-110\"/>\n      <use x=\"777.490234\" xlink:href=\"#DejaVuSans-116\"/>\n      <use x=\"816.699219\" xlink:href=\"#DejaVuSans-115\"/>\n      <use x=\"868.798828\" xlink:href=\"#DejaVuSans-32\"/>\n      <use x=\"900.585938\" xlink:href=\"#DejaVuSans-105\"/>\n      <use x=\"928.369141\" xlink:href=\"#DejaVuSans-110\"/>\n      <use x=\"991.748047\" xlink:href=\"#DejaVuSans-32\"/>\n      <use x=\"1023.535156\" xlink:href=\"#DejaVuSans-110\"/>\n      <use x=\"1086.914062\" xlink:href=\"#DejaVuSans-111\"/>\n      <use x=\"1148.095703\" xlink:href=\"#DejaVuSans-100\"/>\n      <use x=\"1211.572266\" xlink:href=\"#DejaVuSans-101\"/>\n      <use x=\"1273.095703\" xlink:href=\"#DejaVuSans-32\"/>\n      <use x=\"1304.882812\" xlink:href=\"#DejaVuSans-40\"/>\n      <use x=\"1343.896484\" xlink:href=\"#DejaVuSans-111\"/>\n      <use x=\"1405.078125\" xlink:href=\"#DejaVuSans-114\"/>\n      <use x=\"1446.191406\" xlink:href=\"#DejaVuSans-32\"/>\n      <use x=\"1477.978516\" xlink:href=\"#DejaVuSans-105\"/>\n      <use x=\"1505.761719\" xlink:href=\"#DejaVuSans-110\"/>\n      <use x=\"1569.140625\" xlink:href=\"#DejaVuSans-100\"/>\n      <use x=\"1632.617188\" xlink:href=\"#DejaVuSans-101\"/>\n      <use x=\"1692.390625\" xlink:href=\"#DejaVuSans-120\"/>\n      <use x=\"1751.570312\" xlink:href=\"#DejaVuSans-32\"/>\n      <use x=\"1783.357422\" xlink:href=\"#DejaVuSans-111\"/>\n      <use x=\"1844.539062\" xlink:href=\"#DejaVuSans-102\"/>\n      <use x=\"1879.744141\" xlink:href=\"#DejaVuSans-32\"/>\n      <use x=\"1911.53125\" xlink:href=\"#DejaVuSans-112\"/>\n      <use x=\"1975.007812\" xlink:href=\"#DejaVuSans-111\"/>\n      <use x=\"2036.189453\" xlink:href=\"#DejaVuSans-105\"/>\n      <use x=\"2063.972656\" xlink:href=\"#DejaVuSans-110\"/>\n      <use x=\"2127.351562\" xlink:href=\"#DejaVuSans-116\"/>\n      <use x=\"2166.560547\" xlink:href=\"#DejaVuSans-32\"/>\n      <use x=\"2198.347656\" xlink:href=\"#DejaVuSans-105\"/>\n      <use x=\"2226.130859\" xlink:href=\"#DejaVuSans-102\"/>\n      <use x=\"2261.335938\" xlink:href=\"#DejaVuSans-32\"/>\n      <use x=\"2293.123047\" xlink:href=\"#DejaVuSans-110\"/>\n      <use x=\"2356.501953\" xlink:href=\"#DejaVuSans-111\"/>\n      <use x=\"2417.683594\" xlink:href=\"#DejaVuSans-32\"/>\n      <use x=\"2449.470703\" xlink:href=\"#DejaVuSans-112\"/>\n      <use x=\"2512.947266\" xlink:href=\"#DejaVuSans-97\"/>\n      <use x=\"2574.226562\" xlink:href=\"#DejaVuSans-114\"/>\n      <use x=\"2613.089844\" xlink:href=\"#DejaVuSans-101\"/>\n      <use x=\"2674.613281\" xlink:href=\"#DejaVuSans-110\"/>\n      <use x=\"2737.992188\" xlink:href=\"#DejaVuSans-116\"/>\n      <use x=\"2777.201172\" xlink:href=\"#DejaVuSans-104\"/>\n      <use x=\"2840.580078\" xlink:href=\"#DejaVuSans-101\"/>\n      <use x=\"2902.103516\" xlink:href=\"#DejaVuSans-115\"/>\n      <use x=\"2954.203125\" xlink:href=\"#DejaVuSans-105\"/>\n      <use x=\"2981.986328\" xlink:href=\"#DejaVuSans-115\"/>\n      <use x=\"3034.085938\" xlink:href=\"#DejaVuSans-41\"/>\n      <use x=\"3073.099609\" xlink:href=\"#DejaVuSans-46\"/>\n     </g>\n    </g>\n   </g>\n   <g id=\"matplotlib.axis_2\">\n    <g id=\"ytick_1\">\n     <g id=\"line2d_1\">\n      <defs>\n       <path d=\"M 0 0 \nL -3.5 0 \n\" id=\"m7723cae8b7\" style=\"stroke:#000000;stroke-width:0.8;\"/>\n      </defs>\n      <g>\n       <use style=\"stroke:#000000;stroke-width:0.8;\" x=\"33.2875\" xlink:href=\"#m7723cae8b7\" y=\"239.758125\"/>\n      </g>\n     </g>\n     <g id=\"text_18\">\n      <!-- 0 -->\n      <g transform=\"translate(19.925 243.557344)scale(0.1 -0.1)\">\n       <use xlink:href=\"#DejaVuSans-48\"/>\n      </g>\n     </g>\n    </g>\n    <g id=\"ytick_2\">\n     <g id=\"line2d_2\">\n      <g>\n       <use style=\"stroke:#000000;stroke-width:0.8;\" x=\"33.2875\" xlink:href=\"#m7723cae8b7\" y=\"202.000909\"/>\n      </g>\n     </g>\n     <g id=\"text_19\">\n      <!-- 100 -->\n      <g transform=\"translate(7.2 205.800128)scale(0.1 -0.1)\">\n       <use xlink:href=\"#DejaVuSans-49\"/>\n       <use x=\"63.623047\" xlink:href=\"#DejaVuSans-48\"/>\n       <use x=\"127.246094\" xlink:href=\"#DejaVuSans-48\"/>\n      </g>\n     </g>\n    </g>\n    <g id=\"ytick_3\">\n     <g id=\"line2d_3\">\n      <g>\n       <use style=\"stroke:#000000;stroke-width:0.8;\" x=\"33.2875\" xlink:href=\"#m7723cae8b7\" y=\"164.243693\"/>\n      </g>\n     </g>\n     <g id=\"text_20\">\n      <!-- 200 -->\n      <g transform=\"translate(7.2 168.042912)scale(0.1 -0.1)\">\n       <use xlink:href=\"#DejaVuSans-50\"/>\n       <use x=\"63.623047\" xlink:href=\"#DejaVuSans-48\"/>\n       <use x=\"127.246094\" xlink:href=\"#DejaVuSans-48\"/>\n      </g>\n     </g>\n    </g>\n    <g id=\"ytick_4\">\n     <g id=\"line2d_4\">\n      <g>\n       <use style=\"stroke:#000000;stroke-width:0.8;\" x=\"33.2875\" xlink:href=\"#m7723cae8b7\" y=\"126.486477\"/>\n      </g>\n     </g>\n     <g id=\"text_21\">\n      <!-- 300 -->\n      <g transform=\"translate(7.2 130.285696)scale(0.1 -0.1)\">\n       <use xlink:href=\"#DejaVuSans-51\"/>\n       <use x=\"63.623047\" xlink:href=\"#DejaVuSans-48\"/>\n       <use x=\"127.246094\" xlink:href=\"#DejaVuSans-48\"/>\n      </g>\n     </g>\n    </g>\n    <g id=\"ytick_5\">\n     <g id=\"line2d_5\">\n      <g>\n       <use style=\"stroke:#000000;stroke-width:0.8;\" x=\"33.2875\" xlink:href=\"#m7723cae8b7\" y=\"88.729261\"/>\n      </g>\n     </g>\n     <g id=\"text_22\">\n      <!-- 400 -->\n      <g transform=\"translate(7.2 92.52848)scale(0.1 -0.1)\">\n       <use xlink:href=\"#DejaVuSans-52\"/>\n       <use x=\"63.623047\" xlink:href=\"#DejaVuSans-48\"/>\n       <use x=\"127.246094\" xlink:href=\"#DejaVuSans-48\"/>\n      </g>\n     </g>\n    </g>\n    <g id=\"ytick_6\">\n     <g id=\"line2d_6\">\n      <g>\n       <use style=\"stroke:#000000;stroke-width:0.8;\" x=\"33.2875\" xlink:href=\"#m7723cae8b7\" y=\"50.972045\"/>\n      </g>\n     </g>\n     <g id=\"text_23\">\n      <!-- 500 -->\n      <g transform=\"translate(7.2 54.771264)scale(0.1 -0.1)\">\n       <use xlink:href=\"#DejaVuSans-53\"/>\n       <use x=\"63.623047\" xlink:href=\"#DejaVuSans-48\"/>\n       <use x=\"127.246094\" xlink:href=\"#DejaVuSans-48\"/>\n      </g>\n     </g>\n    </g>\n   </g>\n   <g id=\"LineCollection_1\">\n    <path clip-path=\"url(#p50718e3dc7)\" d=\"M 43.75 239.758125 \nL 43.75 233.208535 \nL 64.675 233.208535 \nL 64.675 239.758125 \n\" style=\"fill:none;stroke:#ff7f0e;stroke-width:1.5;\"/>\n    <path clip-path=\"url(#p50718e3dc7)\" d=\"M 85.6 239.758125 \nL 85.6 232.937776 \nL 106.525 232.937776 \nL 106.525 239.758125 \n\" style=\"fill:none;stroke:#ff7f0e;stroke-width:1.5;\"/>\n    <path clip-path=\"url(#p50718e3dc7)\" d=\"M 54.2125 233.208535 \nL 54.2125 228.728719 \nL 96.0625 228.728719 \nL 96.0625 232.937776 \n\" style=\"fill:none;stroke:#ff7f0e;stroke-width:1.5;\"/>\n    <path clip-path=\"url(#p50718e3dc7)\" d=\"M 127.45 239.758125 \nL 127.45 228.743344 \nL 148.375 228.743344 \nL 148.375 239.758125 \n\" style=\"fill:none;stroke:#ff7f0e;stroke-width:1.5;\"/>\n    <path clip-path=\"url(#p50718e3dc7)\" d=\"M 169.3 239.758125 \nL 169.3 227.925147 \nL 190.225 227.925147 \nL 190.225 239.758125 \n\" style=\"fill:none;stroke:#ff7f0e;stroke-width:1.5;\"/>\n    <path clip-path=\"url(#p50718e3dc7)\" d=\"M 137.9125 228.743344 \nL 137.9125 216.568338 \nL 179.7625 216.568338 \nL 179.7625 227.925147 \n\" style=\"fill:none;stroke:#ff7f0e;stroke-width:1.5;\"/>\n    <path clip-path=\"url(#p50718e3dc7)\" d=\"M 75.1375 228.728719 \nL 75.1375 201.305188 \nL 158.8375 201.305188 \nL 158.8375 216.568338 \n\" style=\"fill:none;stroke:#ff7f0e;stroke-width:1.5;\"/>\n   </g>\n   <g id=\"LineCollection_2\">\n    <path clip-path=\"url(#p50718e3dc7)\" d=\"M 211.15 239.758125 \nL 211.15 223.050449 \nL 232.075 223.050449 \nL 232.075 239.758125 \n\" style=\"fill:none;stroke:#2ca02c;stroke-width:1.5;\"/>\n    <path clip-path=\"url(#p50718e3dc7)\" d=\"M 253 239.758125 \nL 253 218.903458 \nL 273.925 218.903458 \nL 273.925 239.758125 \n\" style=\"fill:none;stroke:#2ca02c;stroke-width:1.5;\"/>\n    <path clip-path=\"url(#p50718e3dc7)\" d=\"M 221.6125 223.050449 \nL 221.6125 202.847899 \nL 263.4625 202.847899 \nL 263.4625 218.903458 \n\" style=\"fill:none;stroke:#2ca02c;stroke-width:1.5;\"/>\n    <path clip-path=\"url(#p50718e3dc7)\" d=\"M 294.85 239.758125 \nL 294.85 203.851153 \nL 315.775 203.851153 \nL 315.775 239.758125 \n\" style=\"fill:none;stroke:#2ca02c;stroke-width:1.5;\"/>\n    <path clip-path=\"url(#p50718e3dc7)\" d=\"M 336.7 239.758125 \nL 336.7 193.727879 \nL 357.625 193.727879 \nL 357.625 239.758125 \n\" style=\"fill:none;stroke:#2ca02c;stroke-width:1.5;\"/>\n    <path clip-path=\"url(#p50718e3dc7)\" d=\"M 305.3125 203.851153 \nL 305.3125 189.734429 \nL 347.1625 189.734429 \nL 347.1625 193.727879 \n\" style=\"fill:none;stroke:#2ca02c;stroke-width:1.5;\"/>\n    <path clip-path=\"url(#p50718e3dc7)\" d=\"M 242.5375 202.847899 \nL 242.5375 144.460523 \nL 326.2375 144.460523 \nL 326.2375 189.734429 \n\" style=\"fill:none;stroke:#2ca02c;stroke-width:1.5;\"/>\n   </g>\n   <g id=\"LineCollection_3\">\n    <path clip-path=\"url(#p50718e3dc7)\" d=\"M 116.9875 201.305188 \nL 116.9875 32.672411 \nL 284.3875 32.672411 \nL 284.3875 144.460523 \n\" style=\"fill:none;stroke:#1f77b4;stroke-width:1.5;\"/>\n   </g>\n   <g id=\"patch_3\">\n    <path d=\"M 33.2875 239.758125 \nL 33.2875 22.318125 \n\" style=\"fill:none;stroke:#000000;stroke-linecap:square;stroke-linejoin:miter;stroke-width:0.8;\"/>\n   </g>\n   <g id=\"patch_4\">\n    <path d=\"M 368.0875 239.758125 \nL 368.0875 22.318125 \n\" style=\"fill:none;stroke:#000000;stroke-linecap:square;stroke-linejoin:miter;stroke-width:0.8;\"/>\n   </g>\n   <g id=\"patch_5\">\n    <path d=\"M 33.2875 239.758125 \nL 368.0875 239.758125 \n\" style=\"fill:none;stroke:#000000;stroke-linecap:square;stroke-linejoin:miter;stroke-width:0.8;\"/>\n   </g>\n   <g id=\"patch_6\">\n    <path d=\"M 33.2875 22.318125 \nL 368.0875 22.318125 \n\" style=\"fill:none;stroke:#000000;stroke-linecap:square;stroke-linejoin:miter;stroke-width:0.8;\"/>\n   </g>\n   <g id=\"text_24\">\n    <!-- Hierarchical Clustering Dendrogram -->\n    <g transform=\"translate(92.819688 16.318125)scale(0.12 -0.12)\">\n     <defs>\n      <path d=\"M 9.8125 72.90625 \nL 19.671875 72.90625 \nL 19.671875 43.015625 \nL 55.515625 43.015625 \nL 55.515625 72.90625 \nL 65.375 72.90625 \nL 65.375 0 \nL 55.515625 0 \nL 55.515625 34.71875 \nL 19.671875 34.71875 \nL 19.671875 0 \nL 9.8125 0 \nz\n\" id=\"DejaVuSans-72\"/>\n      <path d=\"M 48.78125 52.59375 \nL 48.78125 44.1875 \nQ 44.96875 46.296875 41.140625 47.34375 \nQ 37.3125 48.390625 33.40625 48.390625 \nQ 24.65625 48.390625 19.8125 42.84375 \nQ 14.984375 37.3125 14.984375 27.296875 \nQ 14.984375 17.28125 19.8125 11.734375 \nQ 24.65625 6.203125 33.40625 6.203125 \nQ 37.3125 6.203125 41.140625 7.25 \nQ 44.96875 8.296875 48.78125 10.40625 \nL 48.78125 2.09375 \nQ 45.015625 0.34375 40.984375 -0.53125 \nQ 36.96875 -1.421875 32.421875 -1.421875 \nQ 20.0625 -1.421875 12.78125 6.34375 \nQ 5.515625 14.109375 5.515625 27.296875 \nQ 5.515625 40.671875 12.859375 48.328125 \nQ 20.21875 56 33.015625 56 \nQ 37.15625 56 41.109375 55.140625 \nQ 45.0625 54.296875 48.78125 52.59375 \nz\n\" id=\"DejaVuSans-99\"/>\n      <path d=\"M 9.421875 75.984375 \nL 18.40625 75.984375 \nL 18.40625 0 \nL 9.421875 0 \nz\n\" id=\"DejaVuSans-108\"/>\n      <path d=\"M 64.40625 67.28125 \nL 64.40625 56.890625 \nQ 59.421875 61.53125 53.78125 63.8125 \nQ 48.140625 66.109375 41.796875 66.109375 \nQ 29.296875 66.109375 22.65625 58.46875 \nQ 16.015625 50.828125 16.015625 36.375 \nQ 16.015625 21.96875 22.65625 14.328125 \nQ 29.296875 6.6875 41.796875 6.6875 \nQ 48.140625 6.6875 53.78125 8.984375 \nQ 59.421875 11.28125 64.40625 15.921875 \nL 64.40625 5.609375 \nQ 59.234375 2.09375 53.4375 0.328125 \nQ 47.65625 -1.421875 41.21875 -1.421875 \nQ 24.65625 -1.421875 15.125 8.703125 \nQ 5.609375 18.84375 5.609375 36.375 \nQ 5.609375 53.953125 15.125 64.078125 \nQ 24.65625 74.21875 41.21875 74.21875 \nQ 47.75 74.21875 53.53125 72.484375 \nQ 59.328125 70.75 64.40625 67.28125 \nz\n\" id=\"DejaVuSans-67\"/>\n      <path d=\"M 45.40625 27.984375 \nQ 45.40625 37.75 41.375 43.109375 \nQ 37.359375 48.484375 30.078125 48.484375 \nQ 22.859375 48.484375 18.828125 43.109375 \nQ 14.796875 37.75 14.796875 27.984375 \nQ 14.796875 18.265625 18.828125 12.890625 \nQ 22.859375 7.515625 30.078125 7.515625 \nQ 37.359375 7.515625 41.375 12.890625 \nQ 45.40625 18.265625 45.40625 27.984375 \nz\nM 54.390625 6.78125 \nQ 54.390625 -7.171875 48.1875 -13.984375 \nQ 42 -20.796875 29.203125 -20.796875 \nQ 24.46875 -20.796875 20.265625 -20.09375 \nQ 16.0625 -19.390625 12.109375 -17.921875 \nL 12.109375 -9.1875 \nQ 16.0625 -11.328125 19.921875 -12.34375 \nQ 23.78125 -13.375 27.78125 -13.375 \nQ 36.625 -13.375 41.015625 -8.765625 \nQ 45.40625 -4.15625 45.40625 5.171875 \nL 45.40625 9.625 \nQ 42.625 4.78125 38.28125 2.390625 \nQ 33.9375 0 27.875 0 \nQ 17.828125 0 11.671875 7.65625 \nQ 5.515625 15.328125 5.515625 27.984375 \nQ 5.515625 40.671875 11.671875 48.328125 \nQ 17.828125 56 27.875 56 \nQ 33.9375 56 38.28125 53.609375 \nQ 42.625 51.21875 45.40625 46.390625 \nL 45.40625 54.6875 \nL 54.390625 54.6875 \nz\n\" id=\"DejaVuSans-103\"/>\n      <path d=\"M 19.671875 64.796875 \nL 19.671875 8.109375 \nL 31.59375 8.109375 \nQ 46.6875 8.109375 53.6875 14.9375 \nQ 60.6875 21.78125 60.6875 36.53125 \nQ 60.6875 51.171875 53.6875 57.984375 \nQ 46.6875 64.796875 31.59375 64.796875 \nz\nM 9.8125 72.90625 \nL 30.078125 72.90625 \nQ 51.265625 72.90625 61.171875 64.09375 \nQ 71.09375 55.28125 71.09375 36.53125 \nQ 71.09375 17.671875 61.125 8.828125 \nQ 51.171875 0 30.078125 0 \nL 9.8125 0 \nz\n\" id=\"DejaVuSans-68\"/>\n     </defs>\n     <use xlink:href=\"#DejaVuSans-72\"/>\n     <use x=\"75.195312\" xlink:href=\"#DejaVuSans-105\"/>\n     <use x=\"102.978516\" xlink:href=\"#DejaVuSans-101\"/>\n     <use x=\"164.501953\" xlink:href=\"#DejaVuSans-114\"/>\n     <use x=\"205.615234\" xlink:href=\"#DejaVuSans-97\"/>\n     <use x=\"266.894531\" xlink:href=\"#DejaVuSans-114\"/>\n     <use x=\"305.757812\" xlink:href=\"#DejaVuSans-99\"/>\n     <use x=\"360.738281\" xlink:href=\"#DejaVuSans-104\"/>\n     <use x=\"424.117188\" xlink:href=\"#DejaVuSans-105\"/>\n     <use x=\"451.900391\" xlink:href=\"#DejaVuSans-99\"/>\n     <use x=\"506.880859\" xlink:href=\"#DejaVuSans-97\"/>\n     <use x=\"568.160156\" xlink:href=\"#DejaVuSans-108\"/>\n     <use x=\"595.943359\" xlink:href=\"#DejaVuSans-32\"/>\n     <use x=\"627.730469\" xlink:href=\"#DejaVuSans-67\"/>\n     <use x=\"697.554688\" xlink:href=\"#DejaVuSans-108\"/>\n     <use x=\"725.337891\" xlink:href=\"#DejaVuSans-117\"/>\n     <use x=\"788.716797\" xlink:href=\"#DejaVuSans-115\"/>\n     <use x=\"840.816406\" xlink:href=\"#DejaVuSans-116\"/>\n     <use x=\"880.025391\" xlink:href=\"#DejaVuSans-101\"/>\n     <use x=\"941.548828\" xlink:href=\"#DejaVuSans-114\"/>\n     <use x=\"982.662109\" xlink:href=\"#DejaVuSans-105\"/>\n     <use x=\"1010.445312\" xlink:href=\"#DejaVuSans-110\"/>\n     <use x=\"1073.824219\" xlink:href=\"#DejaVuSans-103\"/>\n     <use x=\"1137.300781\" xlink:href=\"#DejaVuSans-32\"/>\n     <use x=\"1169.087891\" xlink:href=\"#DejaVuSans-68\"/>\n     <use x=\"1246.089844\" xlink:href=\"#DejaVuSans-101\"/>\n     <use x=\"1307.613281\" xlink:href=\"#DejaVuSans-110\"/>\n     <use x=\"1370.992188\" xlink:href=\"#DejaVuSans-100\"/>\n     <use x=\"1434.46875\" xlink:href=\"#DejaVuSans-114\"/>\n     <use x=\"1473.332031\" xlink:href=\"#DejaVuSans-111\"/>\n     <use x=\"1534.513672\" xlink:href=\"#DejaVuSans-103\"/>\n     <use x=\"1597.990234\" xlink:href=\"#DejaVuSans-114\"/>\n     <use x=\"1639.103516\" xlink:href=\"#DejaVuSans-97\"/>\n     <use x=\"1700.382812\" xlink:href=\"#DejaVuSans-109\"/>\n    </g>\n   </g>\n  </g>\n </g>\n <defs>\n  <clipPath id=\"p50718e3dc7\">\n   <rect height=\"217.44\" width=\"334.8\" x=\"33.2875\" y=\"22.318125\"/>\n  </clipPath>\n </defs>\n</svg>\n",
      "image/png": "[encoded data removed]"
     },
     "metadata": {
      "needs_background": "light"
     }
    }
   ],
   "source": [
    "def hierarchical_clusterize(X, linkage):\n",
    "    model = AgglomerativeClustering(distance_threshold=0, n_clusters=None, linkage=linkage)\n",
    "    model = model.fit(X)\n",
    "    # plot the top three levels of the dendrogram\n",
    "    plot_dendrogram(model, truncate_mode='level', p=3)\n",
    "    plt.xlabel(f\"{linkage} linkage\")\n",
    "    plt.show()\n"
   ]
  }
 ],
 "metadata": {
  "kernelspec": {
   "name": "Python 3.8.5 64-bit ('dm': conda)",
   "display_name": "Python 3.8.5 64-bit ('dm': conda)",
   "metadata": {
    "interpreter": {
     "hash": "f9e5d710c6259926b2de824128d86f6b8c807fa74814c797ac49edf647ab455c"
    }
   }
  },
  "language_info": {
   "codemirror_mode": {
    "name": "ipython",
    "version": 3
   },
   "file_extension": ".py",
   "mimetype": "text/x-python",
   "name": "python",
   "nbconvert_exporter": "python",
   "pygments_lexer": "ipython3",
   "version": "3.8.5-final"
  }
 },
 "nbformat": 4,
 "nbformat_minor": 4
}